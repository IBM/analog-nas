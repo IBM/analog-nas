{
 "cells": [
  {
   "cell_type": "code",
   "execution_count": 1,
   "metadata": {},
   "outputs": [],
   "source": [
    "from analogainas.search_spaces.config_space import ConfigSpace"
   ]
  },
  {
   "cell_type": "code",
   "execution_count": 2,
   "metadata": {},
   "outputs": [],
   "source": [
    "## Default Search Space\n",
    "CS = ConfigSpace(search_space=\"resnet-like\",dataset='ImageNet')"
   ]
  },
  {
   "cell_type": "code",
   "execution_count": 3,
   "metadata": {},
   "outputs": [
    {
     "name": "stdout",
     "output_type": "stream",
     "text": [
      "['out_channel0', 'M', 'R1', 'R2', 'R3', 'R4', 'R5', 'convblock1', 'convblock2', 'convblock3', 'convblock4', 'convblock5', 'widenfact1', 'widenfact2', 'widenfact3', 'widenfact4', 'widenfact5', 'B1', 'B2', 'B3', 'B4', 'B5']\n"
     ]
    }
   ],
   "source": [
    "CS.get_hyperparameters()"
   ]
  },
  {
   "cell_type": "code",
   "execution_count": 4,
   "metadata": {},
   "outputs": [
    {
     "data": {
      "text/plain": [
       "9516645089280"
      ]
     },
     "execution_count": 4,
     "metadata": {},
     "output_type": "execute_result"
    }
   ],
   "source": [
    "CS.compute_cs_size()"
   ]
  },
  {
   "cell_type": "code",
   "execution_count": 5,
   "metadata": {},
   "outputs": [],
   "source": [
    "# Sample possible configurations\n",
    "configs = CS.sample_arch_uniformly(5) # sample 5 configs"
   ]
  },
  {
   "cell_type": "markdown",
   "metadata": {},
   "source": [
    "## Evaluator \n",
    "\n",
    "To speed up the search, we built a machine learning predictor to evaluate the accuracy and robustness of any given architecture from the configuration space. "
   ]
  },
  {
   "cell_type": "code",
   "execution_count": 6,
   "metadata": {},
   "outputs": [],
   "source": [
    "# Load the evaluator \n",
    "from analogainas.evaluators.xgboost import XGBoostEvaluator\n",
    "evaluator = XGBoostEvaluator()"
   ]
  },
  {
   "cell_type": "code",
   "execution_count": 7,
   "metadata": {},
   "outputs": [
    {
     "data": {
      "text/plain": [
       "XGBRegressor(base_score='8.5658985E-1', booster='gbtree', callbacks=None,\n",
       "             colsample_bylevel=None, colsample_bynode=None,\n",
       "             colsample_bytree=None, device=None, early_stopping_rounds=None,\n",
       "             enable_categorical=False, eval_metric=None, feature_types=None,\n",
       "             gamma=None, grow_policy=None, importance_type=None,\n",
       "             interaction_constraints=None, learning_rate=None, max_bin=None,\n",
       "             max_cat_threshold=None, max_cat_to_onehot=None,\n",
       "             max_delta_step=None, max_depth=None, max_leaves=None,\n",
       "             min_child_weight=None, missing=nan, monotone_constraints=None,\n",
       "             multi_strategy=None, n_estimators=None, n_jobs=None,\n",
       "             num_parallel_tree=None, random_state=None, ...)"
      ]
     },
     "execution_count": 7,
     "metadata": {},
     "output_type": "execute_result"
    }
   ],
   "source": [
    "# The ranker model ranks the architectures according to their 1-day accuracy. It is trained with a listwise training loss. \n",
    "evaluator.ranker "
   ]
  },
  {
   "cell_type": "code",
   "execution_count": 8,
   "metadata": {},
   "outputs": [
    {
     "data": {
      "text/plain": [
       "XGBRegressor(base_score='9.32594E0', booster='gbtree', callbacks=None,\n",
       "             colsample_bylevel=None, colsample_bynode=None,\n",
       "             colsample_bytree=None, device=None, early_stopping_rounds=None,\n",
       "             enable_categorical=False, eval_metric=None, feature_types=None,\n",
       "             gamma=None, grow_policy=None, importance_type=None,\n",
       "             interaction_constraints=None, learning_rate=None, max_bin=None,\n",
       "             max_cat_threshold=None, max_cat_to_onehot=None,\n",
       "             max_delta_step=None, max_depth=None, max_leaves=None,\n",
       "             min_child_weight=None, missing=nan, monotone_constraints=None,\n",
       "             multi_strategy=None, n_estimators=None, n_jobs=None,\n",
       "             num_parallel_tree=None, random_state=None, ...)"
      ]
     },
     "execution_count": 8,
     "metadata": {},
     "output_type": "execute_result"
    }
   ],
   "source": [
    "# The AVM predictor regresses the average monthly variation. \n",
    "evaluator.avm_predictor"
   ]
  },
  {
   "cell_type": "markdown",
   "metadata": {},
   "source": [
    "## Search Optimizer and Worker \n",
    "In this example, we will use evolutionary search to look for the best architecture in CS using our evaluator. "
   ]
  },
  {
   "cell_type": "code",
   "execution_count": 9,
   "metadata": {},
   "outputs": [],
   "source": [
    "from analogainas.search_algorithms.ea_optimized import EAOptimizer\n",
    "from analogainas.search_algorithms.worker import Worker\n"
   ]
  },
  {
   "cell_type": "code",
   "execution_count": 10,
   "metadata": {},
   "outputs": [],
   "source": [
    "optimizer = EAOptimizer(evaluator, population_size=20, nb_iter=10)  "
   ]
  },
  {
   "cell_type": "code",
   "execution_count": 11,
   "metadata": {},
   "outputs": [],
   "source": [
    "NB_RUN = 1\n",
    "worker = Worker(CS, optimizer=optimizer, runs=NB_RUN)"
   ]
  },
  {
   "cell_type": "code",
   "execution_count": 12,
   "metadata": {},
   "outputs": [
    {
     "name": "stdout",
     "output_type": "stream",
     "text": [
      "The 'results' directory already exists.\n",
      "\n",
      "Search 0 started\n",
      "2\n",
      "ITERATION 0 completed: best acc [0.7990944]\n",
      "ITERATION 1 completed: best acc [0.7990944]\n",
      "ITERATION 2 completed: best acc [0.7990944]\n",
      "ITERATION 3 completed: best acc [0.8845372]\n",
      "ITERATION 4 completed: best acc [0.92043924]\n",
      "ITERATION 5 completed: best acc [0.9240905]\n",
      "ITERATION 6 completed: best acc [0.9240905]\n",
      "ITERATION 7 completed: best acc [0.9240905]\n",
      "ITERATION 8 completed: best acc [0.9240905]\n",
      "ITERATION 9 completed: best acc [0.9240905]\n",
      "Best Acc = [0.9240905]\n",
      "SEARCH ENDED\n"
     ]
    },
    {
     "name": "stderr",
     "output_type": "stream",
     "text": [
      "/home/research/.conda/envs/analognas/lib/python3.8/site-packages/numpy/core/_methods.py:269: RuntimeWarning: Degrees of freedom <= 0 for slice\n",
      "  ret = _var(a, axis=axis, dtype=dtype, out=out, ddof=ddof,\n",
      "/home/research/.conda/envs/analognas/lib/python3.8/site-packages/numpy/core/_methods.py:261: RuntimeWarning: invalid value encountered in divide\n",
      "  ret = ret.dtype.type(ret / rcount)\n"
     ]
    }
   ],
   "source": [
    "worker.search()"
   ]
  },
  {
   "cell_type": "code",
   "execution_count": 13,
   "metadata": {},
   "outputs": [
    {
     "name": "stdout",
     "output_type": "stream",
     "text": [
      "Best architecture accuracy:  [0.9240905]\n",
      "Standard deviation of accuracy over 1 runs: nan\n",
      "Best architecture:  {'out_channel0': 32, 'M': 4, 'R1': 3, 'R2': 5, 'R3': 12, 'R4': 10, 'R5': 0, 'convblock1': 1, 'convblock2': 2, 'convblock3': 1, 'convblock4': 2, 'convblock5': 0, 'widenfact1': 0.5127229713200394, 'widenfact2': 0.7163255341265284, 'widenfact3': 0.6197214949382625, 'widenfact4': 0.5486812092842295, 'widenfact5': 0, 'B1': 6, 'B2': 2, 'B3': 1, 'B4': 3, 'B5': 0}\n"
     ]
    }
   ],
   "source": [
    "worker.result_summary()"
   ]
  },
  {
   "cell_type": "code",
   "execution_count": 14,
   "metadata": {},
   "outputs": [
    {
     "data": {
      "text/plain": [
       "{'out_channel0': 32,\n",
       " 'M': 4,\n",
       " 'R1': 3,\n",
       " 'R2': 5,\n",
       " 'R3': 12,\n",
       " 'R4': 10,\n",
       " 'R5': 0,\n",
       " 'convblock1': 1,\n",
       " 'convblock2': 2,\n",
       " 'convblock3': 1,\n",
       " 'convblock4': 2,\n",
       " 'convblock5': 0,\n",
       " 'widenfact1': 0.5127229713200394,\n",
       " 'widenfact2': 0.7163255341265284,\n",
       " 'widenfact3': 0.6197214949382625,\n",
       " 'widenfact4': 0.5486812092842295,\n",
       " 'widenfact5': 0,\n",
       " 'B1': 6,\n",
       " 'B2': 2,\n",
       " 'B3': 1,\n",
       " 'B4': 3,\n",
       " 'B5': 0}"
      ]
     },
     "execution_count": 14,
     "metadata": {},
     "output_type": "execute_result"
    }
   ],
   "source": [
    "worker.best_config"
   ]
  },
  {
   "cell_type": "code",
   "execution_count": 15,
   "metadata": {},
   "outputs": [],
   "source": [
    "from analogainas.search_spaces.resnet_macro_architecture import ImageNetNetwork"
   ]
  },
  {
   "cell_type": "code",
   "execution_count": 16,
   "metadata": {},
   "outputs": [
    {
     "name": "stdout",
     "output_type": "stream",
     "text": [
      "Total number of parameters: 40099115\n"
     ]
    }
   ],
   "source": [
    "test_net = ImageNetNetwork(worker.best_config)\n",
    "total_params = sum(p.numel() for p in test_net.parameters())\n",
    "print(\"Total number of parameters:\", total_params)"
   ]
  }
 ],
 "metadata": {
  "kernelspec": {
   "display_name": "analognas",
   "language": "python",
   "name": "python3"
  },
  "language_info": {
   "codemirror_mode": {
    "name": "ipython",
    "version": 3
   },
   "file_extension": ".py",
   "mimetype": "text/x-python",
   "name": "python",
   "nbconvert_exporter": "python",
   "pygments_lexer": "ipython3",
   "version": "3.8.20"
  }
 },
 "nbformat": 4,
 "nbformat_minor": 2
}
