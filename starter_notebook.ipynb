{
 "cells": [
  {
   "cell_type": "markdown",
   "metadata": {},
   "source": [
    "# AnalogNAS Tutorial"
   ]
  },
  {
   "cell_type": "markdown",
   "metadata": {},
   "source": [
    "[AnalogAINAS](https://github.com/IBM/analog-nas) is a framework that aims at building analog-aware efficient deep learning models. AnalogNAS is built on top of the [AIHWKIT](https://github.com/IBM/aihwkit). IBM Analog Hardware Acceleration Kit (AIHWKIT) is an open source Python toolkit for exploring and using the capabilities of in-memory computing devices in the context of artificial intelligence.\n",
    "\n",
    "In a high-level AnalogAINAS consists of 4 main building blocks which (can) interact with each other:\n",
    "* Configuration spaces: a search space of architectures targeting a specific dataset.\n",
    "* Evaluator: a ML predictor model to predict: \n",
    "    * 1-day Accuracy: the evaluator models the drift effect that is encountered in Analog devices. The accuracy after 1 day of drift is then predicted and used as an objective to maximize. \n",
    "    * The Accuracy Variation for One Month (AVM): The difference between the accuracy after 1 month and the accuracy after 1 sec. \n",
    "    * The 1-day accuracy standard deviation: The stochasticity of the noise induces different variation of the model's accuracy depending on its architecture. \n",
    "* Optimizer: a optimization strategy such as evolutionary algorithm or bayesian optimization. \n",
    "* Worker: A global object that runs the architecture search loop and the final network training pipeline"
   ]
  },
  {
   "cell_type": "markdown",
   "metadata": {},
   "source": [
    "### Installation and setup\n",
    "**NOTE:** this installation is tested on a Linux and Windows machine.\n",
    "\n",
    "Firstly, refer to [AIHWKit installation](https://aihwkit.readthedocs.io/en/latest/install.html) to install Pytorch and the AIHWKit toolkit. \n",
    "\n",
    "Install the additional requirements, using:\n",
    "```\n",
    "pip install -r requirements.txt \n",
    "```\n",
    "\n",
    "Afterwards, install AnalogNAS by running the ```setup.py``` file:\n",
    "``` \n",
    "python setup.py install \n",
    "```"
   ]
  },
  {
   "cell_type": "markdown",
   "metadata": {},
   "source": [
    "### Create a Configuration Space\n",
    "AnalogNAS presents a general search space composed of ResNet-like architectures. \n",
    "\n",
    "The macro-architecture defined in the file ```search_spaces/resnet_macro_architecture.py``` is customizable to any image classification dataset, given an input shape and output classes. "
   ]
  },
  {
   "cell_type": "code",
   "execution_count": 1,
   "metadata": {},
   "outputs": [],
   "source": [
    "from analogainas.search_spaces.config_space import ConfigSpace"
   ]
  },
  {
   "cell_type": "code",
   "execution_count": 2,
   "metadata": {},
   "outputs": [
    {
     "data": {
      "text/plain": [
       "Architecture Type: resnet-like\n",
       "Search Space Size: 773094113280\n",
       "------------------------------------------------\n",
       "0)\n",
       "Name: out_channel0\n",
       "Min_Value:0\n",
       "Max_value:0\n",
       "Step:1\n",
       "\n",
       "1)\n",
       "Name: M\n",
       "Min_Value:1\n",
       "Max_value:5\n",
       "Step:1\n",
       "\n",
       "2)\n",
       "Name: R1\n",
       "Min_Value:1\n",
       "Max_value:16\n",
       "Step:1\n",
       "\n",
       "3)\n",
       "Name: R2\n",
       "Min_Value:0\n",
       "Max_value:16\n",
       "Step:1\n",
       "\n",
       "4)\n",
       "Name: R3\n",
       "Min_Value:0\n",
       "Max_value:16\n",
       "Step:1\n",
       "\n",
       "5)\n",
       "Name: R4\n",
       "Min_Value:0\n",
       "Max_value:16\n",
       "Step:1\n",
       "\n",
       "6)\n",
       "Name: R5\n",
       "Min_Value:0\n",
       "Max_value:16\n",
       "Step:1\n",
       "\n",
       "7)\n",
       "Name: convblock1\n",
       "Min_Value:0\n",
       "Max_value:0\n",
       "Step:1\n",
       "\n",
       "8)\n",
       "Name: widenfact1\n",
       "Min_Value:0.5\n",
       "Max_value:0.8\n",
       "Step:1\n",
       "\n",
       "9)\n",
       "Name: B1\n",
       "Min_Value:1\n",
       "Max_value:5\n",
       "Step:1\n",
       "\n",
       "10)\n",
       "Name: convblock2\n",
       "Min_Value:0\n",
       "Max_value:0\n",
       "Step:1\n",
       "\n",
       "11)\n",
       "Name: widenfact2\n",
       "Min_Value:0.5\n",
       "Max_value:0.8\n",
       "Step:1\n",
       "\n",
       "12)\n",
       "Name: B2\n",
       "Min_Value:1\n",
       "Max_value:5\n",
       "Step:1\n",
       "\n",
       "13)\n",
       "Name: convblock3\n",
       "Min_Value:0\n",
       "Max_value:0\n",
       "Step:1\n",
       "\n",
       "14)\n",
       "Name: widenfact3\n",
       "Min_Value:0.5\n",
       "Max_value:0.8\n",
       "Step:1\n",
       "\n",
       "15)\n",
       "Name: B3\n",
       "Min_Value:1\n",
       "Max_value:5\n",
       "Step:1\n",
       "\n",
       "16)\n",
       "Name: convblock4\n",
       "Min_Value:0\n",
       "Max_value:0\n",
       "Step:1\n",
       "\n",
       "17)\n",
       "Name: widenfact4\n",
       "Min_Value:0.5\n",
       "Max_value:0.8\n",
       "Step:1\n",
       "\n",
       "18)\n",
       "Name: B4\n",
       "Min_Value:1\n",
       "Max_value:5\n",
       "Step:1\n",
       "\n",
       "19)\n",
       "Name: convblock5\n",
       "Min_Value:0\n",
       "Max_value:0\n",
       "Step:1\n",
       "\n",
       "20)\n",
       "Name: widenfact5\n",
       "Min_Value:0.5\n",
       "Max_value:0.8\n",
       "Step:1\n",
       "\n",
       "21)\n",
       "Name: B5\n",
       "Min_Value:1\n",
       "Max_value:5\n",
       "Step:1\n",
       "\n",
       "------------------------------------------------"
      ]
     },
     "execution_count": 2,
     "metadata": {},
     "output_type": "execute_result"
    }
   ],
   "source": [
    "## Default Search Space\n",
    "CS = ConfigSpace('CIFAR-10')\n",
    "CS"
   ]
  },
  {
   "cell_type": "code",
   "execution_count": 3,
   "metadata": {},
   "outputs": [
    {
     "name": "stdout",
     "output_type": "stream",
     "text": [
      "['out_channel0', 'M', 'R1', 'R2', 'R3', 'R4', 'R5', 'convblock1', 'widenfact1', 'B1', 'convblock2', 'widenfact2', 'B2', 'convblock3', 'widenfact3', 'B3', 'convblock4', 'widenfact4', 'B4', 'convblock5', 'widenfact5', 'B5']\n"
     ]
    }
   ],
   "source": [
    "CS.get_hyperparameters()"
   ]
  },
  {
   "cell_type": "code",
   "execution_count": 4,
   "metadata": {},
   "outputs": [],
   "source": [
    "## Add a hyperparameter \n",
    "## Name should be a unique ID. \n",
    "CS.add_hyperparameter(\"out_channel\", \"discrete\", min_value=8, max_value=32, step=3)"
   ]
  },
  {
   "cell_type": "code",
   "execution_count": 5,
   "metadata": {},
   "outputs": [
    {
     "ename": "Exception",
     "evalue": "Name should be unique!",
     "output_type": "error",
     "traceback": [
      "\u001b[1;31m---------------------------------------------------------------------------\u001b[0m",
      "\u001b[1;31mException\u001b[0m                                 Traceback (most recent call last)",
      "Cell \u001b[1;32mIn [5], line 1\u001b[0m\n\u001b[1;32m----> 1\u001b[0m \u001b[43mCS\u001b[49m\u001b[38;5;241;43m.\u001b[39;49m\u001b[43madd_hyperparameter\u001b[49m\u001b[43m(\u001b[49m\u001b[38;5;124;43m\"\u001b[39;49m\u001b[38;5;124;43mout_channel\u001b[39;49m\u001b[38;5;124;43m\"\u001b[39;49m\u001b[43m,\u001b[49m\u001b[43m \u001b[49m\u001b[38;5;124;43m\"\u001b[39;49m\u001b[38;5;124;43mdiscrete\u001b[39;49m\u001b[38;5;124;43m\"\u001b[39;49m\u001b[43m,\u001b[49m\u001b[43m \u001b[49m\u001b[43mmin_value\u001b[49m\u001b[38;5;241;43m=\u001b[39;49m\u001b[38;5;241;43m8\u001b[39;49m\u001b[43m,\u001b[49m\u001b[43m \u001b[49m\u001b[43mmax_value\u001b[49m\u001b[38;5;241;43m=\u001b[39;49m\u001b[38;5;241;43m32\u001b[39;49m\u001b[43m,\u001b[49m\u001b[43m \u001b[49m\u001b[43mstep\u001b[49m\u001b[38;5;241;43m=\u001b[39;49m\u001b[38;5;241;43m3\u001b[39;49m\u001b[43m)\u001b[49m\n",
      "File \u001b[1;32mc:\\Users\\hadjer\\analog-nas\\analogainas\\search_spaces\\config_space.py:56\u001b[0m, in \u001b[0;36mConfigSpace.add_hyperparameter\u001b[1;34m(self, name, type, min_value, max_value, step)\u001b[0m\n\u001b[0;32m     54\u001b[0m \u001b[39mfor\u001b[39;00m h \u001b[39min\u001b[39;00m \u001b[39mself\u001b[39m\u001b[39m.\u001b[39mhyperparameters:\n\u001b[0;32m     55\u001b[0m     \u001b[39mif\u001b[39;00m h\u001b[39m.\u001b[39mname \u001b[39m==\u001b[39m name:\n\u001b[1;32m---> 56\u001b[0m         \u001b[39mraise\u001b[39;00m \u001b[39mException\u001b[39;00m(\u001b[39m\"\u001b[39m\u001b[39mName should be unique!\u001b[39m\u001b[39m\"\u001b[39m)\n\u001b[0;32m     58\u001b[0m hyp \u001b[39m=\u001b[39m Hyperparameter(name,\n\u001b[0;32m     59\u001b[0m                      \u001b[39mtype\u001b[39m,\n\u001b[0;32m     60\u001b[0m                      min_value\u001b[39m=\u001b[39mmin_value,\n\u001b[0;32m     61\u001b[0m                      max_value\u001b[39m=\u001b[39mmax_value, \n\u001b[0;32m     62\u001b[0m                      step\u001b[39m=\u001b[39mstep)\n\u001b[0;32m     63\u001b[0m \u001b[39mself\u001b[39m\u001b[39m.\u001b[39mhyperparameters\u001b[39m.\u001b[39mappend(hyp)\n",
      "\u001b[1;31mException\u001b[0m: Name should be unique!"
     ]
    }
   ],
   "source": [
    "## The error is generated on purpose when the same name is given\n",
    "CS.add_hyperparameter(\"out_channel\", \"discrete\", min_value=8, max_value=32, step=3)"
   ]
  },
  {
   "cell_type": "code",
   "execution_count": null,
   "metadata": {},
   "outputs": [
    {
     "data": {
      "text/plain": [
       "6184752906240"
      ]
     },
     "execution_count": 6,
     "metadata": {},
     "output_type": "execute_result"
    }
   ],
   "source": [
    "CS.compute_cs_size()"
   ]
  },
  {
   "cell_type": "code",
   "execution_count": 6,
   "metadata": {},
   "outputs": [
    {
     "data": {
      "text/plain": [
       "773094113280"
      ]
     },
     "execution_count": 6,
     "metadata": {},
     "output_type": "execute_result"
    }
   ],
   "source": [
    "CS.remove_hyperparameter(\"out_channel\")\n",
    "CS.compute_cs_size()"
   ]
  },
  {
   "cell_type": "code",
   "execution_count": 7,
   "metadata": {},
   "outputs": [],
   "source": [
    "# Sample possible configurations\n",
    "configs = CS.sample_arch_uniformly(5)"
   ]
  },
  {
   "cell_type": "code",
   "execution_count": 8,
   "metadata": {},
   "outputs": [
    {
     "data": {
      "text/plain": [
       "[{'out_channel0': 64,\n",
       "  'M': 2,\n",
       "  'R1': 12,\n",
       "  'R2': 1,\n",
       "  'R3': 0,\n",
       "  'R4': 0,\n",
       "  'R5': 0,\n",
       "  'convblock1': 2,\n",
       "  'widenfact1': 0.7898408899988426,\n",
       "  'B1': 2,\n",
       "  'convblock2': 2,\n",
       "  'widenfact2': 0.775246613246175,\n",
       "  'B2': 1,\n",
       "  'convblock3': 0,\n",
       "  'widenfact3': 0,\n",
       "  'B3': 0,\n",
       "  'convblock4': 0,\n",
       "  'widenfact4': 0,\n",
       "  'B4': 0,\n",
       "  'convblock5': 0,\n",
       "  'widenfact5': 0,\n",
       "  'B5': 0},\n",
       " {'out_channel0': 64,\n",
       "  'M': 2,\n",
       "  'R1': 8,\n",
       "  'R2': 0,\n",
       "  'R3': 0,\n",
       "  'R4': 0,\n",
       "  'R5': 0,\n",
       "  'convblock1': 1,\n",
       "  'widenfact1': 0.6496111034668584,\n",
       "  'B1': 1,\n",
       "  'convblock2': 1,\n",
       "  'widenfact2': 0.7762654316325677,\n",
       "  'B2': 4,\n",
       "  'convblock3': 0,\n",
       "  'widenfact3': 0,\n",
       "  'B3': 0,\n",
       "  'convblock4': 0,\n",
       "  'widenfact4': 0,\n",
       "  'B4': 0,\n",
       "  'convblock5': 0,\n",
       "  'widenfact5': 0,\n",
       "  'B5': 0},\n",
       " {'out_channel0': 16,\n",
       "  'M': 4,\n",
       "  'R1': 13,\n",
       "  'R2': 5,\n",
       "  'R3': 11,\n",
       "  'R4': 5,\n",
       "  'R5': 0,\n",
       "  'convblock1': 2,\n",
       "  'widenfact1': 0.5914426894746183,\n",
       "  'B1': 4,\n",
       "  'convblock2': 2,\n",
       "  'widenfact2': 0.5775186034020032,\n",
       "  'B2': 1,\n",
       "  'convblock3': 1,\n",
       "  'widenfact3': 0.5600567274670226,\n",
       "  'B3': 2,\n",
       "  'convblock4': 2,\n",
       "  'widenfact4': 0.7095370274187529,\n",
       "  'B4': 3,\n",
       "  'convblock5': 0,\n",
       "  'widenfact5': 0,\n",
       "  'B5': 0},\n",
       " {'out_channel0': 16,\n",
       "  'M': 4,\n",
       "  'R1': 4,\n",
       "  'R2': 10,\n",
       "  'R3': 9,\n",
       "  'R4': 8,\n",
       "  'R5': 0,\n",
       "  'convblock1': 1,\n",
       "  'widenfact1': 0.7064471719278123,\n",
       "  'B1': 1,\n",
       "  'convblock2': 1,\n",
       "  'widenfact2': 0.5591085753078341,\n",
       "  'B2': 3,\n",
       "  'convblock3': 2,\n",
       "  'widenfact3': 0.5952118665585087,\n",
       "  'B3': 4,\n",
       "  'convblock4': 1,\n",
       "  'widenfact4': 0.7904483038908494,\n",
       "  'B4': 3,\n",
       "  'convblock5': 0,\n",
       "  'widenfact5': 0,\n",
       "  'B5': 0},\n",
       " {'out_channel0': 8,\n",
       "  'M': 3,\n",
       "  'R1': 8,\n",
       "  'R2': 4,\n",
       "  'R3': 10,\n",
       "  'R4': 0,\n",
       "  'R5': 0,\n",
       "  'convblock1': 2,\n",
       "  'widenfact1': 0.6379528155955924,\n",
       "  'B1': 2,\n",
       "  'convblock2': 1,\n",
       "  'widenfact2': 0.5960740997618895,\n",
       "  'B2': 3,\n",
       "  'convblock3': 2,\n",
       "  'widenfact3': 0.7655958527162746,\n",
       "  'B3': 4,\n",
       "  'convblock4': 0,\n",
       "  'widenfact4': 0,\n",
       "  'B4': 0,\n",
       "  'convblock5': 0,\n",
       "  'widenfact5': 0,\n",
       "  'B5': 0}]"
      ]
     },
     "execution_count": 8,
     "metadata": {},
     "output_type": "execute_result"
    }
   ],
   "source": [
    "# Configs is a dictionary holding 5 possible architectures in our search space. \n",
    "configs "
   ]
  },
  {
   "cell_type": "markdown",
   "metadata": {},
   "source": [
    "## Evaluator \n",
    "\n",
    "To speed up the search, we built a machine learning predictor to evaluate the accuracy and robustness of any given architecture from the configuration space. "
   ]
  },
  {
   "cell_type": "code",
   "execution_count": 9,
   "metadata": {},
   "outputs": [],
   "source": [
    "# Load the evaluator \n",
    "from analogainas.evaluators.xgboost import XGBoostEvaluator\n",
    "evaluator = XGBoostEvaluator()"
   ]
  },
  {
   "cell_type": "code",
   "execution_count": 10,
   "metadata": {},
   "outputs": [
    {
     "data": {
      "text/html": [
       "<style>#sk-container-id-1 {color: black;background-color: white;}#sk-container-id-1 pre{padding: 0;}#sk-container-id-1 div.sk-toggleable {background-color: white;}#sk-container-id-1 label.sk-toggleable__label {cursor: pointer;display: block;width: 100%;margin-bottom: 0;padding: 0.3em;box-sizing: border-box;text-align: center;}#sk-container-id-1 label.sk-toggleable__label-arrow:before {content: \"▸\";float: left;margin-right: 0.25em;color: #696969;}#sk-container-id-1 label.sk-toggleable__label-arrow:hover:before {color: black;}#sk-container-id-1 div.sk-estimator:hover label.sk-toggleable__label-arrow:before {color: black;}#sk-container-id-1 div.sk-toggleable__content {max-height: 0;max-width: 0;overflow: hidden;text-align: left;background-color: #f0f8ff;}#sk-container-id-1 div.sk-toggleable__content pre {margin: 0.2em;color: black;border-radius: 0.25em;background-color: #f0f8ff;}#sk-container-id-1 input.sk-toggleable__control:checked~div.sk-toggleable__content {max-height: 200px;max-width: 100%;overflow: auto;}#sk-container-id-1 input.sk-toggleable__control:checked~label.sk-toggleable__label-arrow:before {content: \"▾\";}#sk-container-id-1 div.sk-estimator input.sk-toggleable__control:checked~label.sk-toggleable__label {background-color: #d4ebff;}#sk-container-id-1 div.sk-label input.sk-toggleable__control:checked~label.sk-toggleable__label {background-color: #d4ebff;}#sk-container-id-1 input.sk-hidden--visually {border: 0;clip: rect(1px 1px 1px 1px);clip: rect(1px, 1px, 1px, 1px);height: 1px;margin: -1px;overflow: hidden;padding: 0;position: absolute;width: 1px;}#sk-container-id-1 div.sk-estimator {font-family: monospace;background-color: #f0f8ff;border: 1px dotted black;border-radius: 0.25em;box-sizing: border-box;margin-bottom: 0.5em;}#sk-container-id-1 div.sk-estimator:hover {background-color: #d4ebff;}#sk-container-id-1 div.sk-parallel-item::after {content: \"\";width: 100%;border-bottom: 1px solid gray;flex-grow: 1;}#sk-container-id-1 div.sk-label:hover label.sk-toggleable__label {background-color: #d4ebff;}#sk-container-id-1 div.sk-serial::before {content: \"\";position: absolute;border-left: 1px solid gray;box-sizing: border-box;top: 0;bottom: 0;left: 50%;z-index: 0;}#sk-container-id-1 div.sk-serial {display: flex;flex-direction: column;align-items: center;background-color: white;padding-right: 0.2em;padding-left: 0.2em;position: relative;}#sk-container-id-1 div.sk-item {position: relative;z-index: 1;}#sk-container-id-1 div.sk-parallel {display: flex;align-items: stretch;justify-content: center;background-color: white;position: relative;}#sk-container-id-1 div.sk-item::before, #sk-container-id-1 div.sk-parallel-item::before {content: \"\";position: absolute;border-left: 1px solid gray;box-sizing: border-box;top: 0;bottom: 0;left: 50%;z-index: -1;}#sk-container-id-1 div.sk-parallel-item {display: flex;flex-direction: column;z-index: 1;position: relative;background-color: white;}#sk-container-id-1 div.sk-parallel-item:first-child::after {align-self: flex-end;width: 50%;}#sk-container-id-1 div.sk-parallel-item:last-child::after {align-self: flex-start;width: 50%;}#sk-container-id-1 div.sk-parallel-item:only-child::after {width: 0;}#sk-container-id-1 div.sk-dashed-wrapped {border: 1px dashed gray;margin: 0 0.4em 0.5em 0.4em;box-sizing: border-box;padding-bottom: 0.4em;background-color: white;}#sk-container-id-1 div.sk-label label {font-family: monospace;font-weight: bold;display: inline-block;line-height: 1.2em;}#sk-container-id-1 div.sk-label-container {text-align: center;}#sk-container-id-1 div.sk-container {/* jupyter's `normalize.less` sets `[hidden] { display: none; }` but bootstrap.min.css set `[hidden] { display: none !important; }` so we also need the `!important` here to be able to override the default hidden behavior on the sphinx rendered scikit-learn.org. See: https://github.com/scikit-learn/scikit-learn/issues/21755 */display: inline-block !important;position: relative;}#sk-container-id-1 div.sk-text-repr-fallback {display: none;}</style><div id=\"sk-container-id-1\" class=\"sk-top-container\"><div class=\"sk-text-repr-fallback\"><pre>XGBRanker(base_score=0.5, booster=&#x27;gbtree&#x27;, callbacks=None, colsample_bylevel=1,\n",
       "          colsample_bynode=1, colsample_bytree=0.9, early_stopping_rounds=None,\n",
       "          enable_categorical=True, eta=0.05, eval_metric=None, gamma=0,\n",
       "          gpu_id=-1, grow_policy=&#x27;depthwise&#x27;, importance_type=None,\n",
       "          interaction_constraints=&#x27;&#x27;, learning_rate=0.1, max_bin=256,\n",
       "          max_cat_to_onehot=4, max_delta_step=0, max_depth=6, max_leaves=0,\n",
       "          min_child_weight=1, missing=nan, monotone_constraints=&#x27;()&#x27;,\n",
       "          n_estimators=110, n_jobs=0, num_parallel_tree=1, predictor=&#x27;auto&#x27;,\n",
       "          random_state=42, reg_alpha=0, ...)</pre><b>In a Jupyter environment, please rerun this cell to show the HTML representation or trust the notebook. <br />On GitHub, the HTML representation is unable to render, please try loading this page with nbviewer.org.</b></div><div class=\"sk-container\" hidden><div class=\"sk-item\"><div class=\"sk-estimator sk-toggleable\"><input class=\"sk-toggleable__control sk-hidden--visually\" id=\"sk-estimator-id-1\" type=\"checkbox\" checked><label for=\"sk-estimator-id-1\" class=\"sk-toggleable__label sk-toggleable__label-arrow\">XGBRanker</label><div class=\"sk-toggleable__content\"><pre>XGBRanker(base_score=0.5, booster=&#x27;gbtree&#x27;, callbacks=None, colsample_bylevel=1,\n",
       "          colsample_bynode=1, colsample_bytree=0.9, early_stopping_rounds=None,\n",
       "          enable_categorical=True, eta=0.05, eval_metric=None, gamma=0,\n",
       "          gpu_id=-1, grow_policy=&#x27;depthwise&#x27;, importance_type=None,\n",
       "          interaction_constraints=&#x27;&#x27;, learning_rate=0.1, max_bin=256,\n",
       "          max_cat_to_onehot=4, max_delta_step=0, max_depth=6, max_leaves=0,\n",
       "          min_child_weight=1, missing=nan, monotone_constraints=&#x27;()&#x27;,\n",
       "          n_estimators=110, n_jobs=0, num_parallel_tree=1, predictor=&#x27;auto&#x27;,\n",
       "          random_state=42, reg_alpha=0, ...)</pre></div></div></div></div></div>"
      ],
      "text/plain": [
       "XGBRanker(base_score=0.5, booster='gbtree', callbacks=None, colsample_bylevel=1,\n",
       "          colsample_bynode=1, colsample_bytree=0.9, early_stopping_rounds=None,\n",
       "          enable_categorical=True, eta=0.05, eval_metric=None, gamma=0,\n",
       "          gpu_id=-1, grow_policy='depthwise', importance_type=None,\n",
       "          interaction_constraints='', learning_rate=0.1, max_bin=256,\n",
       "          max_cat_to_onehot=4, max_delta_step=0, max_depth=6, max_leaves=0,\n",
       "          min_child_weight=1, missing=nan, monotone_constraints='()',\n",
       "          n_estimators=110, n_jobs=0, num_parallel_tree=1, predictor='auto',\n",
       "          random_state=42, reg_alpha=0, ...)"
      ]
     },
     "execution_count": 10,
     "metadata": {},
     "output_type": "execute_result"
    }
   ],
   "source": [
    "# The ranker model ranks the architectures according to their 1-day accuracy. It is trained with a listwise training loss. \n",
    "evaluator.ranker "
   ]
  },
  {
   "cell_type": "code",
   "execution_count": 11,
   "metadata": {},
   "outputs": [
    {
     "data": {
      "text/html": [
       "<style>#sk-container-id-2 {color: black;background-color: white;}#sk-container-id-2 pre{padding: 0;}#sk-container-id-2 div.sk-toggleable {background-color: white;}#sk-container-id-2 label.sk-toggleable__label {cursor: pointer;display: block;width: 100%;margin-bottom: 0;padding: 0.3em;box-sizing: border-box;text-align: center;}#sk-container-id-2 label.sk-toggleable__label-arrow:before {content: \"▸\";float: left;margin-right: 0.25em;color: #696969;}#sk-container-id-2 label.sk-toggleable__label-arrow:hover:before {color: black;}#sk-container-id-2 div.sk-estimator:hover label.sk-toggleable__label-arrow:before {color: black;}#sk-container-id-2 div.sk-toggleable__content {max-height: 0;max-width: 0;overflow: hidden;text-align: left;background-color: #f0f8ff;}#sk-container-id-2 div.sk-toggleable__content pre {margin: 0.2em;color: black;border-radius: 0.25em;background-color: #f0f8ff;}#sk-container-id-2 input.sk-toggleable__control:checked~div.sk-toggleable__content {max-height: 200px;max-width: 100%;overflow: auto;}#sk-container-id-2 input.sk-toggleable__control:checked~label.sk-toggleable__label-arrow:before {content: \"▾\";}#sk-container-id-2 div.sk-estimator input.sk-toggleable__control:checked~label.sk-toggleable__label {background-color: #d4ebff;}#sk-container-id-2 div.sk-label input.sk-toggleable__control:checked~label.sk-toggleable__label {background-color: #d4ebff;}#sk-container-id-2 input.sk-hidden--visually {border: 0;clip: rect(1px 1px 1px 1px);clip: rect(1px, 1px, 1px, 1px);height: 1px;margin: -1px;overflow: hidden;padding: 0;position: absolute;width: 1px;}#sk-container-id-2 div.sk-estimator {font-family: monospace;background-color: #f0f8ff;border: 1px dotted black;border-radius: 0.25em;box-sizing: border-box;margin-bottom: 0.5em;}#sk-container-id-2 div.sk-estimator:hover {background-color: #d4ebff;}#sk-container-id-2 div.sk-parallel-item::after {content: \"\";width: 100%;border-bottom: 1px solid gray;flex-grow: 1;}#sk-container-id-2 div.sk-label:hover label.sk-toggleable__label {background-color: #d4ebff;}#sk-container-id-2 div.sk-serial::before {content: \"\";position: absolute;border-left: 1px solid gray;box-sizing: border-box;top: 0;bottom: 0;left: 50%;z-index: 0;}#sk-container-id-2 div.sk-serial {display: flex;flex-direction: column;align-items: center;background-color: white;padding-right: 0.2em;padding-left: 0.2em;position: relative;}#sk-container-id-2 div.sk-item {position: relative;z-index: 1;}#sk-container-id-2 div.sk-parallel {display: flex;align-items: stretch;justify-content: center;background-color: white;position: relative;}#sk-container-id-2 div.sk-item::before, #sk-container-id-2 div.sk-parallel-item::before {content: \"\";position: absolute;border-left: 1px solid gray;box-sizing: border-box;top: 0;bottom: 0;left: 50%;z-index: -1;}#sk-container-id-2 div.sk-parallel-item {display: flex;flex-direction: column;z-index: 1;position: relative;background-color: white;}#sk-container-id-2 div.sk-parallel-item:first-child::after {align-self: flex-end;width: 50%;}#sk-container-id-2 div.sk-parallel-item:last-child::after {align-self: flex-start;width: 50%;}#sk-container-id-2 div.sk-parallel-item:only-child::after {width: 0;}#sk-container-id-2 div.sk-dashed-wrapped {border: 1px dashed gray;margin: 0 0.4em 0.5em 0.4em;box-sizing: border-box;padding-bottom: 0.4em;background-color: white;}#sk-container-id-2 div.sk-label label {font-family: monospace;font-weight: bold;display: inline-block;line-height: 1.2em;}#sk-container-id-2 div.sk-label-container {text-align: center;}#sk-container-id-2 div.sk-container {/* jupyter's `normalize.less` sets `[hidden] { display: none; }` but bootstrap.min.css set `[hidden] { display: none !important; }` so we also need the `!important` here to be able to override the default hidden behavior on the sphinx rendered scikit-learn.org. See: https://github.com/scikit-learn/scikit-learn/issues/21755 */display: inline-block !important;position: relative;}#sk-container-id-2 div.sk-text-repr-fallback {display: none;}</style><div id=\"sk-container-id-2\" class=\"sk-top-container\"><div class=\"sk-text-repr-fallback\"><pre>XGBRegressor(base_score=0.5, booster=&#x27;gbtree&#x27;, callbacks=None,\n",
       "             colsample_bylevel=1, colsample_bynode=1, colsample_bytree=0.9,\n",
       "             early_stopping_rounds=None, enable_categorical=False, eta=0.05,\n",
       "             eval_metric=None, gamma=0, gpu_id=-1, grow_policy=&#x27;depthwise&#x27;,\n",
       "             importance_type=None, interaction_constraints=&#x27;&#x27;,\n",
       "             learning_rate=0.1, max_bin=256, max_cat_to_onehot=4,\n",
       "             max_delta_step=0, max_depth=6, max_leaves=0, min_child_weight=1,\n",
       "             missing=nan, monotone_constraints=&#x27;()&#x27;, n_estimators=110, n_jobs=0,\n",
       "             num_parallel_tree=1, predictor=&#x27;auto&#x27;, random_state=42,\n",
       "             reg_alpha=0, ...)</pre><b>In a Jupyter environment, please rerun this cell to show the HTML representation or trust the notebook. <br />On GitHub, the HTML representation is unable to render, please try loading this page with nbviewer.org.</b></div><div class=\"sk-container\" hidden><div class=\"sk-item\"><div class=\"sk-estimator sk-toggleable\"><input class=\"sk-toggleable__control sk-hidden--visually\" id=\"sk-estimator-id-2\" type=\"checkbox\" checked><label for=\"sk-estimator-id-2\" class=\"sk-toggleable__label sk-toggleable__label-arrow\">XGBRegressor</label><div class=\"sk-toggleable__content\"><pre>XGBRegressor(base_score=0.5, booster=&#x27;gbtree&#x27;, callbacks=None,\n",
       "             colsample_bylevel=1, colsample_bynode=1, colsample_bytree=0.9,\n",
       "             early_stopping_rounds=None, enable_categorical=False, eta=0.05,\n",
       "             eval_metric=None, gamma=0, gpu_id=-1, grow_policy=&#x27;depthwise&#x27;,\n",
       "             importance_type=None, interaction_constraints=&#x27;&#x27;,\n",
       "             learning_rate=0.1, max_bin=256, max_cat_to_onehot=4,\n",
       "             max_delta_step=0, max_depth=6, max_leaves=0, min_child_weight=1,\n",
       "             missing=nan, monotone_constraints=&#x27;()&#x27;, n_estimators=110, n_jobs=0,\n",
       "             num_parallel_tree=1, predictor=&#x27;auto&#x27;, random_state=42,\n",
       "             reg_alpha=0, ...)</pre></div></div></div></div></div>"
      ],
      "text/plain": [
       "XGBRegressor(base_score=0.5, booster='gbtree', callbacks=None,\n",
       "             colsample_bylevel=1, colsample_bynode=1, colsample_bytree=0.9,\n",
       "             early_stopping_rounds=None, enable_categorical=False, eta=0.05,\n",
       "             eval_metric=None, gamma=0, gpu_id=-1, grow_policy='depthwise',\n",
       "             importance_type=None, interaction_constraints='',\n",
       "             learning_rate=0.1, max_bin=256, max_cat_to_onehot=4,\n",
       "             max_delta_step=0, max_depth=6, max_leaves=0, min_child_weight=1,\n",
       "             missing=nan, monotone_constraints='()', n_estimators=110, n_jobs=0,\n",
       "             num_parallel_tree=1, predictor='auto', random_state=42,\n",
       "             reg_alpha=0, ...)"
      ]
     },
     "execution_count": 11,
     "metadata": {},
     "output_type": "execute_result"
    }
   ],
   "source": [
    "# The AVM predictor regresses the average monthly variation. \n",
    "evaluator.avm_predictor"
   ]
  },
  {
   "cell_type": "markdown",
   "metadata": {},
   "source": [
    "## Search Optimizer and Worker \n",
    "In this example, we will use evolutionary search to look for the best architecture in CS using our evaluator. "
   ]
  },
  {
   "cell_type": "code",
   "execution_count": 12,
   "metadata": {},
   "outputs": [
    {
     "name": "stderr",
     "output_type": "stream",
     "text": [
      "c:\\Users\\hadjer\\anaconda3\\envs\\pytorch\\lib\\site-packages\\tqdm\\auto.py:22: TqdmWarning: IProgress not found. Please update jupyter and ipywidgets. See https://ipywidgets.readthedocs.io/en/stable/user_install.html\n",
      "  from .autonotebook import tqdm as notebook_tqdm\n"
     ]
    }
   ],
   "source": [
    "from analogainas.search_algorithms.ea_optimized import EAOptimizer\n",
    "from analogainas.search_algorithms.worker import Worker"
   ]
  },
  {
   "cell_type": "code",
   "execution_count": 13,
   "metadata": {},
   "outputs": [],
   "source": [
    "optimizer = EAOptimizer(evaluator, population_size=20, nb_iter=10)  "
   ]
  },
  {
   "cell_type": "code",
   "execution_count": 14,
   "metadata": {},
   "outputs": [],
   "source": [
    "NB_RUN = 2\n",
    "worker = Worker(CS, optimizer=optimizer, runs=NB_RUN)"
   ]
  },
  {
   "cell_type": "code",
   "execution_count": 16,
   "metadata": {},
   "outputs": [
    {
     "name": "stdout",
     "output_type": "stream",
     "text": [
      "Result directory created.\n",
      "\n",
      "Search 0 started\n",
      "ITERATION 0 completed: best acc 0.5867591738425217\n",
      "ITERATION 1 completed: best acc 0.7953551661210345\n",
      "ITERATION 2 completed: best acc 0.7953551661210345\n",
      "ITERATION 3 completed: best acc 0.7953551661210345\n",
      "ITERATION 4 completed: best acc 0.8079763705587886\n",
      "ITERATION 5 completed: best acc 0.8337070881276811\n",
      "ITERATION 6 completed: best acc 0.879439058695786\n",
      "ITERATION 7 completed: best acc 0.879439058695786\n",
      "ITERATION 8 completed: best acc 0.879439058695786\n",
      "ITERATION 9 completed: best acc 0.879439058695786\n",
      "Best Acc = 0.879439058695786\n",
      "Search 1 started\n",
      "ITERATION 0 completed: best acc 0.7832513086778994\n",
      "ITERATION 1 completed: best acc 0.7832513086778994\n",
      "ITERATION 2 completed: best acc 0.8130145589367455\n",
      "ITERATION 3 completed: best acc 0.8130145589367455\n",
      "ITERATION 4 completed: best acc 0.8531200051528554\n",
      "ITERATION 5 completed: best acc 0.8531200051528554\n",
      "ITERATION 6 completed: best acc 0.8531200051528554\n",
      "ITERATION 7 completed: best acc 0.8624818837214474\n",
      "ITERATION 8 completed: best acc 0.8624818837214474\n",
      "ITERATION 9 completed: best acc 0.8624818837214474\n",
      "Best Acc = 0.8624818837214474\n",
      "SEARCH ENDED\n"
     ]
    }
   ],
   "source": [
    "worker.search()"
   ]
  },
  {
   "cell_type": "code",
   "execution_count": 17,
   "metadata": {},
   "outputs": [
    {
     "name": "stdout",
     "output_type": "stream",
     "text": [
      "Best architecture accuracy:  0.879439058695786\n",
      "Standard deviation of accuracy over 2 runs: 0.879439058695786\n"
     ]
    }
   ],
   "source": [
    "worker.result_summary()"
   ]
  }
 ],
 "metadata": {
  "kernelspec": {
   "display_name": "Python 3 (ipykernel)",
   "language": "python",
   "name": "python3"
  },
  "language_info": {
   "codemirror_mode": {
    "name": "ipython",
    "version": 3
   },
   "file_extension": ".py",
   "mimetype": "text/x-python",
   "name": "python",
   "nbconvert_exporter": "python",
   "pygments_lexer": "ipython3",
   "version": "3.9.12"
  },
  "vscode": {
   "interpreter": {
    "hash": "b1f3380a69d515cb08938b29020bc1e1b6209a3fd549aa67bb9ba1a2696e9448"
   }
  }
 },
 "nbformat": 4,
 "nbformat_minor": 2
}
