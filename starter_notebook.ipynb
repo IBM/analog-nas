{
 "cells": [
  {
   "cell_type": "markdown",
   "metadata": {},
   "source": [
    "# AnalogNAS Tutorial"
   ]
  },
  {
   "cell_type": "markdown",
   "metadata": {},
   "source": [
    "[AnalogAINAS](https://github.com/IBM/analog-nas) is a framework that aims at building analog-aware efficient deep learning models. AnalogNAS is built on top of the [AIHWKIT](https://github.com/IBM/aihwkit). IBM Analog Hardware Acceleration Kit (AIHWKIT) is an open source Python toolkit for exploring and using the capabilities of in-memory computing devices in the context of artificial intelligence.\n",
    "\n",
    "In a high-level AnalogAINAS consists of 4 main building blocks which (can) interact with each other:\n",
    "* Configuration spaces: a search space of architectures targeting a specific dataset.\n",
    "* Evaluator: a ML predictor model to predict: \n",
    "    * 1-day Accuracy: the evaluator models the drift effect that is encountered in Analog devices. The accuracy after 1 day of drift is then predicted and used as an objective to maximize. \n",
    "    * The Accuracy Variation for One Month (AVM): The difference between the accuracy after 1 month and the accuracy after 1 sec. \n",
    "    * The 1-day accuracy standard deviation: The stochasticity of the noise induces different variation of the model's accuracy depending on its architecture. \n",
    "* Optimizer: a optimization strategy such as evolutionary algorithm or bayesian optimization. \n",
    "* Worker: A global object that runs the architecture search loop and the final network training pipeline"
   ]
  },
  {
   "cell_type": "markdown",
   "metadata": {},
   "source": [
    "### Installation and setup\n",
    "**NOTE:** this installation is tested on a Linux and Windows machine.\n",
    "\n",
    "Firstly, refer to [AIHWKit installation](https://aihwkit.readthedocs.io/en/latest/install.html) to install Pytorch and the AIHWKit toolkit. \n",
    "\n",
    "Install the additional requirements, using:\n",
    "```\n",
    "pip install -r requirements.txt \n",
    "```\n",
    "\n",
    "Afterwards, install AnalogNAS by running the ```setup.py``` file:\n",
    "``` \n",
    "python setup.py install \n",
    "```"
   ]
  },
  {
   "cell_type": "markdown",
   "metadata": {},
   "source": [
    "### Create a Configuration Space\n",
    "AnalogNAS presents a general search space composed of ResNet-like architectures. \n",
    "\n",
    "The macro-architecture defined in the file ```search_spaces/resnet_macro_architecture.py``` is customizable to any image classification dataset, given an input shape and output classes. "
   ]
  },
  {
   "cell_type": "code",
   "execution_count": 1,
   "metadata": {},
   "outputs": [],
   "source": [
    "from analogainas.search_spaces.config_space import ConfigSpace"
   ]
  },
  {
   "cell_type": "code",
   "execution_count": 2,
   "metadata": {},
   "outputs": [
    {
     "data": {
      "text/plain": [
       "Architecture Type: resnet-like\n",
       "Search Space Size: 773094113280\n",
       "------------------------------------------------\n",
       "0)\n",
       "Name: out_channel0\n",
       "Min_Value:0\n",
       "Max_value:0\n",
       "Step:1\n",
       "\n",
       "1)\n",
       "Name: M\n",
       "Min_Value:1\n",
       "Max_value:5\n",
       "Step:1\n",
       "\n",
       "2)\n",
       "Name: R1\n",
       "Min_Value:1\n",
       "Max_value:16\n",
       "Step:1\n",
       "\n",
       "3)\n",
       "Name: R2\n",
       "Min_Value:0\n",
       "Max_value:16\n",
       "Step:1\n",
       "\n",
       "4)\n",
       "Name: R3\n",
       "Min_Value:0\n",
       "Max_value:16\n",
       "Step:1\n",
       "\n",
       "5)\n",
       "Name: R4\n",
       "Min_Value:0\n",
       "Max_value:16\n",
       "Step:1\n",
       "\n",
       "6)\n",
       "Name: R5\n",
       "Min_Value:0\n",
       "Max_value:16\n",
       "Step:1\n",
       "\n",
       "7)\n",
       "Name: convblock1\n",
       "Min_Value:0\n",
       "Max_value:0\n",
       "Step:1\n",
       "\n",
       "8)\n",
       "Name: widenfact1\n",
       "Min_Value:0.5\n",
       "Max_value:0.8\n",
       "Step:1\n",
       "\n",
       "9)\n",
       "Name: B1\n",
       "Min_Value:1\n",
       "Max_value:5\n",
       "Step:1\n",
       "\n",
       "10)\n",
       "Name: convblock2\n",
       "Min_Value:0\n",
       "Max_value:0\n",
       "Step:1\n",
       "\n",
       "11)\n",
       "Name: widenfact2\n",
       "Min_Value:0.5\n",
       "Max_value:0.8\n",
       "Step:1\n",
       "\n",
       "12)\n",
       "Name: B2\n",
       "Min_Value:1\n",
       "Max_value:5\n",
       "Step:1\n",
       "\n",
       "13)\n",
       "Name: convblock3\n",
       "Min_Value:0\n",
       "Max_value:0\n",
       "Step:1\n",
       "\n",
       "14)\n",
       "Name: widenfact3\n",
       "Min_Value:0.5\n",
       "Max_value:0.8\n",
       "Step:1\n",
       "\n",
       "15)\n",
       "Name: B3\n",
       "Min_Value:1\n",
       "Max_value:5\n",
       "Step:1\n",
       "\n",
       "16)\n",
       "Name: convblock4\n",
       "Min_Value:0\n",
       "Max_value:0\n",
       "Step:1\n",
       "\n",
       "17)\n",
       "Name: widenfact4\n",
       "Min_Value:0.5\n",
       "Max_value:0.8\n",
       "Step:1\n",
       "\n",
       "18)\n",
       "Name: B4\n",
       "Min_Value:1\n",
       "Max_value:5\n",
       "Step:1\n",
       "\n",
       "19)\n",
       "Name: convblock5\n",
       "Min_Value:0\n",
       "Max_value:0\n",
       "Step:1\n",
       "\n",
       "20)\n",
       "Name: widenfact5\n",
       "Min_Value:0.5\n",
       "Max_value:0.8\n",
       "Step:1\n",
       "\n",
       "21)\n",
       "Name: B5\n",
       "Min_Value:1\n",
       "Max_value:5\n",
       "Step:1\n",
       "\n",
       "------------------------------------------------"
      ]
     },
     "execution_count": 2,
     "metadata": {},
     "output_type": "execute_result"
    }
   ],
   "source": [
    "## Default Search Space\n",
    "CS = ConfigSpace(\"resnet-like\",'CIFAR-10')\n",
    "CS"
   ]
  },
  {
   "cell_type": "code",
   "execution_count": 3,
   "metadata": {},
   "outputs": [
    {
     "name": "stdout",
     "output_type": "stream",
     "text": [
      "['out_channel0', 'M', 'R1', 'R2', 'R3', 'R4', 'R5', 'convblock1', 'widenfact1', 'B1', 'convblock2', 'widenfact2', 'B2', 'convblock3', 'widenfact3', 'B3', 'convblock4', 'widenfact4', 'B4', 'convblock5', 'widenfact5', 'B5']\n"
     ]
    }
   ],
   "source": [
    "CS.get_hyperparameters()"
   ]
  },
  {
   "cell_type": "code",
   "execution_count": 4,
   "metadata": {},
   "outputs": [],
   "source": [
    "## Add a hyperparameter \n",
    "## Name should be a unique ID. \n",
    "CS.add_hyperparameter(\"out_channel\", \"discrete\", min_value=8, max_value=32, step=3)"
   ]
  },
  {
   "cell_type": "code",
   "execution_count": 5,
   "metadata": {},
   "outputs": [
    {
     "ename": "Exception",
     "evalue": "Name should be unique!",
     "output_type": "error",
     "traceback": [
      "\u001b[0;31m---------------------------------------------------------------------------\u001b[0m",
      "\u001b[0;31mException\u001b[0m                                 Traceback (most recent call last)",
      "Input \u001b[0;32mIn [5]\u001b[0m, in \u001b[0;36m<cell line: 2>\u001b[0;34m()\u001b[0m\n\u001b[1;32m      1\u001b[0m \u001b[38;5;66;03m## The error is generated on purpose when the same name is given\u001b[39;00m\n\u001b[0;32m----> 2\u001b[0m \u001b[43mCS\u001b[49m\u001b[38;5;241;43m.\u001b[39;49m\u001b[43madd_hyperparameter\u001b[49m\u001b[43m(\u001b[49m\u001b[38;5;124;43m\"\u001b[39;49m\u001b[38;5;124;43mout_channel\u001b[39;49m\u001b[38;5;124;43m\"\u001b[39;49m\u001b[43m,\u001b[49m\u001b[43m \u001b[49m\u001b[38;5;124;43m\"\u001b[39;49m\u001b[38;5;124;43mdiscrete\u001b[39;49m\u001b[38;5;124;43m\"\u001b[39;49m\u001b[43m,\u001b[49m\u001b[43m \u001b[49m\u001b[43mmin_value\u001b[49m\u001b[38;5;241;43m=\u001b[39;49m\u001b[38;5;241;43m8\u001b[39;49m\u001b[43m,\u001b[49m\u001b[43m \u001b[49m\u001b[43mmax_value\u001b[49m\u001b[38;5;241;43m=\u001b[39;49m\u001b[38;5;241;43m32\u001b[39;49m\u001b[43m,\u001b[49m\u001b[43m \u001b[49m\u001b[43mstep\u001b[49m\u001b[38;5;241;43m=\u001b[39;49m\u001b[38;5;241;43m3\u001b[39;49m\u001b[43m)\u001b[49m\n",
      "File \u001b[0;32m~/Columbia/analog-nas/analogainas/search_spaces/config_space.py:59\u001b[0m, in \u001b[0;36mConfigSpace.add_hyperparameter\u001b[0;34m(self, name, type, min_value, max_value, step)\u001b[0m\n\u001b[1;32m     57\u001b[0m \u001b[38;5;28;01mfor\u001b[39;00m h \u001b[38;5;129;01min\u001b[39;00m \u001b[38;5;28mself\u001b[39m\u001b[38;5;241m.\u001b[39mhyperparameters:\n\u001b[1;32m     58\u001b[0m     \u001b[38;5;28;01mif\u001b[39;00m h\u001b[38;5;241m.\u001b[39mname \u001b[38;5;241m==\u001b[39m name:\n\u001b[0;32m---> 59\u001b[0m         \u001b[38;5;28;01mraise\u001b[39;00m \u001b[38;5;167;01mException\u001b[39;00m(\u001b[38;5;124m\"\u001b[39m\u001b[38;5;124mName should be unique!\u001b[39m\u001b[38;5;124m\"\u001b[39m)\n\u001b[1;32m     61\u001b[0m hyp \u001b[38;5;241m=\u001b[39m Hyperparameter(name, \u001b[38;5;28mtype\u001b[39m, min_value\u001b[38;5;241m=\u001b[39mmin_value, max_value\u001b[38;5;241m=\u001b[39mmax_value, step\u001b[38;5;241m=\u001b[39mstep)\n\u001b[1;32m     62\u001b[0m \u001b[38;5;28mself\u001b[39m\u001b[38;5;241m.\u001b[39mhyperparameters\u001b[38;5;241m.\u001b[39mappend(hyp)\n",
      "\u001b[0;31mException\u001b[0m: Name should be unique!"
     ]
    }
   ],
   "source": [
    "## The error is generated on purpose when the same name is given\n",
    "CS.add_hyperparameter(\"out_channel\", \"discrete\", min_value=8, max_value=32, step=3)"
   ]
  },
  {
   "cell_type": "code",
   "execution_count": 6,
   "metadata": {},
   "outputs": [
    {
     "data": {
      "text/plain": [
       "6184752906240"
      ]
     },
     "execution_count": 6,
     "metadata": {},
     "output_type": "execute_result"
    }
   ],
   "source": [
    "CS.compute_cs_size()"
   ]
  },
  {
   "cell_type": "code",
   "execution_count": 7,
   "metadata": {},
   "outputs": [
    {
     "data": {
      "text/plain": [
       "773094113280"
      ]
     },
     "execution_count": 7,
     "metadata": {},
     "output_type": "execute_result"
    }
   ],
   "source": [
    "CS.remove_hyperparameter(\"out_channel\")\n",
    "CS.compute_cs_size()"
   ]
  },
  {
   "cell_type": "code",
   "execution_count": 8,
   "metadata": {},
   "outputs": [],
   "source": [
    "# Sample possible configurations\n",
    "configs = CS.sample_arch_uniformly(5)"
   ]
  },
  {
   "cell_type": "code",
   "execution_count": 9,
   "metadata": {},
   "outputs": [
    {
     "data": {
      "text/plain": [
       "[{'out_channel0': 32,\n",
       "  'M': 4,\n",
       "  'R1': 11,\n",
       "  'R2': 7,\n",
       "  'R3': 7,\n",
       "  'R4': 0,\n",
       "  'R5': 0,\n",
       "  'convblock1': 1,\n",
       "  'widenfact1': 0.6734827172614789,\n",
       "  'B1': 4,\n",
       "  'convblock2': 2,\n",
       "  'widenfact2': 0.5117470659165128,\n",
       "  'B2': 3,\n",
       "  'convblock3': 1,\n",
       "  'widenfact3': 0.7852849803876965,\n",
       "  'B3': 2,\n",
       "  'convblock4': 1,\n",
       "  'widenfact4': 0.6249027462741319,\n",
       "  'B4': 1,\n",
       "  'convblock5': 0,\n",
       "  'widenfact5': 0,\n",
       "  'B5': 0},\n",
       " {'out_channel0': 12,\n",
       "  'M': 2,\n",
       "  'R1': 11,\n",
       "  'R2': 11,\n",
       "  'R3': 0,\n",
       "  'R4': 0,\n",
       "  'R5': 0,\n",
       "  'convblock1': 1,\n",
       "  'widenfact1': 0.7024563876233106,\n",
       "  'B1': 3,\n",
       "  'convblock2': 2,\n",
       "  'widenfact2': 0.774605503165751,\n",
       "  'B2': 1,\n",
       "  'convblock3': 0,\n",
       "  'widenfact3': 0,\n",
       "  'B3': 0,\n",
       "  'convblock4': 0,\n",
       "  'widenfact4': 0,\n",
       "  'B4': 0,\n",
       "  'convblock5': 0,\n",
       "  'widenfact5': 0,\n",
       "  'B5': 0},\n",
       " {'out_channel0': 16,\n",
       "  'M': 1,\n",
       "  'R1': 1,\n",
       "  'R2': 0,\n",
       "  'R3': 0,\n",
       "  'R4': 0,\n",
       "  'R5': 0,\n",
       "  'convblock1': 1,\n",
       "  'widenfact1': 0.5633164544867959,\n",
       "  'B1': 4,\n",
       "  'convblock2': 0,\n",
       "  'widenfact2': 0,\n",
       "  'B2': 0,\n",
       "  'convblock3': 0,\n",
       "  'widenfact3': 0,\n",
       "  'B3': 0,\n",
       "  'convblock4': 0,\n",
       "  'widenfact4': 0,\n",
       "  'B4': 0,\n",
       "  'convblock5': 0,\n",
       "  'widenfact5': 0,\n",
       "  'B5': 0},\n",
       " {'out_channel0': 32,\n",
       "  'M': 1,\n",
       "  'R1': 6,\n",
       "  'R2': 0,\n",
       "  'R3': 0,\n",
       "  'R4': 0,\n",
       "  'R5': 0,\n",
       "  'convblock1': 2,\n",
       "  'widenfact1': 0.6287031413167072,\n",
       "  'B1': 2,\n",
       "  'convblock2': 0,\n",
       "  'widenfact2': 0,\n",
       "  'B2': 0,\n",
       "  'convblock3': 0,\n",
       "  'widenfact3': 0,\n",
       "  'B3': 0,\n",
       "  'convblock4': 0,\n",
       "  'widenfact4': 0,\n",
       "  'B4': 0,\n",
       "  'convblock5': 0,\n",
       "  'widenfact5': 0,\n",
       "  'B5': 0},\n",
       " {'out_channel0': 48,\n",
       "  'M': 2,\n",
       "  'R1': 15,\n",
       "  'R2': 13,\n",
       "  'R3': 0,\n",
       "  'R4': 0,\n",
       "  'R5': 0,\n",
       "  'convblock1': 1,\n",
       "  'widenfact1': 0.6665370428136227,\n",
       "  'B1': 1,\n",
       "  'convblock2': 2,\n",
       "  'widenfact2': 0.5952569301985257,\n",
       "  'B2': 1,\n",
       "  'convblock3': 0,\n",
       "  'widenfact3': 0,\n",
       "  'B3': 0,\n",
       "  'convblock4': 0,\n",
       "  'widenfact4': 0,\n",
       "  'B4': 0,\n",
       "  'convblock5': 0,\n",
       "  'widenfact5': 0,\n",
       "  'B5': 0}]"
      ]
     },
     "execution_count": 9,
     "metadata": {},
     "output_type": "execute_result"
    }
   ],
   "source": [
    "# Configs is a dictionary holding 5 possible architectures in our search space. \n",
    "configs "
   ]
  },
  {
   "cell_type": "markdown",
   "metadata": {},
   "source": [
    "## Evaluator \n",
    "\n",
    "To speed up the search, we built a machine learning predictor to evaluate the accuracy and robustness of any given architecture from the configuration space. "
   ]
  },
  {
   "cell_type": "code",
   "execution_count": 10,
   "metadata": {},
   "outputs": [],
   "source": [
    "# Load the evaluator \n",
    "from analogainas.evaluators.xgboost import XGBoostEvaluator\n",
    "evaluator = XGBoostEvaluator()"
   ]
  },
  {
   "cell_type": "code",
   "execution_count": 11,
   "metadata": {},
   "outputs": [
    {
     "data": {
      "text/plain": [
       "XGBRegressor(base_score='8.5658985E-1', booster='gbtree', callbacks=None,\n",
       "             colsample_bylevel=None, colsample_bynode=None,\n",
       "             colsample_bytree=None, device=None, early_stopping_rounds=None,\n",
       "             enable_categorical=False, eval_metric=None, feature_types=None,\n",
       "             gamma=None, grow_policy=None, importance_type=None,\n",
       "             interaction_constraints=None, learning_rate=None, max_bin=None,\n",
       "             max_cat_threshold=None, max_cat_to_onehot=None,\n",
       "             max_delta_step=None, max_depth=None, max_leaves=None,\n",
       "             min_child_weight=None, missing=nan, monotone_constraints=None,\n",
       "             multi_strategy=None, n_estimators=None, n_jobs=None,\n",
       "             num_parallel_tree=None, random_state=None, ...)"
      ]
     },
     "execution_count": 11,
     "metadata": {},
     "output_type": "execute_result"
    }
   ],
   "source": [
    "# The ranker model ranks the architectures according to their 1-day accuracy. It is trained with a listwise training loss. \n",
    "evaluator.ranker "
   ]
  },
  {
   "cell_type": "code",
   "execution_count": 12,
   "metadata": {},
   "outputs": [
    {
     "data": {
      "text/plain": [
       "XGBRegressor(base_score='9.32594E0', booster='gbtree', callbacks=None,\n",
       "             colsample_bylevel=None, colsample_bynode=None,\n",
       "             colsample_bytree=None, device=None, early_stopping_rounds=None,\n",
       "             enable_categorical=False, eval_metric=None, feature_types=None,\n",
       "             gamma=None, grow_policy=None, importance_type=None,\n",
       "             interaction_constraints=None, learning_rate=None, max_bin=None,\n",
       "             max_cat_threshold=None, max_cat_to_onehot=None,\n",
       "             max_delta_step=None, max_depth=None, max_leaves=None,\n",
       "             min_child_weight=None, missing=nan, monotone_constraints=None,\n",
       "             multi_strategy=None, n_estimators=None, n_jobs=None,\n",
       "             num_parallel_tree=None, random_state=None, ...)"
      ]
     },
     "execution_count": 12,
     "metadata": {},
     "output_type": "execute_result"
    }
   ],
   "source": [
    "# The AVM predictor regresses the average monthly variation. \n",
    "evaluator.avm_predictor"
   ]
  },
  {
   "cell_type": "markdown",
   "metadata": {},
   "source": [
    "## Search Optimizer and Worker \n",
    "In this example, we will use evolutionary search to look for the best architecture in CS using our evaluator. "
   ]
  },
  {
   "cell_type": "code",
   "execution_count": 13,
   "metadata": {},
   "outputs": [],
   "source": [
    "from analogainas.search_algorithms.ea_optimized import EAOptimizer\n",
    "from analogainas.search_algorithms.worker import Worker\n"
   ]
  },
  {
   "cell_type": "code",
   "execution_count": 14,
   "metadata": {},
   "outputs": [],
   "source": [
    "optimizer = EAOptimizer(evaluator, population_size=20, nb_iter=10)  "
   ]
  },
  {
   "cell_type": "code",
   "execution_count": 15,
   "metadata": {},
   "outputs": [],
   "source": [
    "NB_RUN = 1\n",
    "worker = Worker(CS, optimizer=optimizer, runs=NB_RUN)"
   ]
  },
  {
   "cell_type": "code",
   "execution_count": 16,
   "metadata": {},
   "outputs": [
    {
     "name": "stdout",
     "output_type": "stream",
     "text": [
      "The 'results' directory already exists.\n",
      "\n",
      "Search 0 started\n",
      "2\n",
      "ITERATION 0 completed: best acc [0.92193866]\n",
      "ITERATION 1 completed: best acc [0.92193866]\n",
      "ITERATION 2 completed: best acc [0.92193866]\n",
      "ITERATION 3 completed: best acc [0.92193866]\n",
      "ITERATION 4 completed: best acc [0.92193866]\n",
      "ITERATION 5 completed: best acc [0.92193866]\n",
      "ITERATION 6 completed: best acc [0.92193866]\n",
      "ITERATION 7 completed: best acc [0.92193866]\n",
      "ITERATION 8 completed: best acc [0.92193866]\n",
      "ITERATION 9 completed: best acc [0.92193866]\n",
      "Best Acc = [0.92193866]\n",
      "SEARCH ENDED\n"
     ]
    },
    {
     "name": "stderr",
     "output_type": "stream",
     "text": [
      "/home/research/.conda/envs/analognas/lib/python3.8/site-packages/numpy/core/_methods.py:269: RuntimeWarning: Degrees of freedom <= 0 for slice\n",
      "  ret = _var(a, axis=axis, dtype=dtype, out=out, ddof=ddof,\n",
      "/home/research/.conda/envs/analognas/lib/python3.8/site-packages/numpy/core/_methods.py:261: RuntimeWarning: invalid value encountered in divide\n",
      "  ret = ret.dtype.type(ret / rcount)\n"
     ]
    }
   ],
   "source": [
    "worker.search()"
   ]
  },
  {
   "cell_type": "code",
   "execution_count": 17,
   "metadata": {},
   "outputs": [
    {
     "name": "stdout",
     "output_type": "stream",
     "text": [
      "Best architecture accuracy:  [0.92193866]\n",
      "Standard deviation of accuracy over 1 runs: nan\n",
      "Best architecture:  {'out_channel0': 16, 'M': 4, 'R1': 7, 'R2': 7, 'R3': 12, 'R4': 0, 'R5': 0, 'convblock1': 1, 'widenfact1': 0.5168686107241711, 'B1': 4, 'convblock2': 1, 'widenfact2': 0.5981899279712694, 'B2': 1, 'convblock3': 1, 'widenfact3': 0.7993492021086113, 'B3': 3, 'convblock4': 1, 'widenfact4': 0.5517837667404678, 'B4': 4, 'convblock5': 0, 'widenfact5': 0, 'B5': 0}\n"
     ]
    }
   ],
   "source": [
    "worker.result_summary()"
   ]
  }
 ],
 "metadata": {
  "kernelspec": {
   "display_name": "analognas",
   "language": "python",
   "name": "python3"
  },
  "language_info": {
   "codemirror_mode": {
    "name": "ipython",
    "version": 3
   },
   "file_extension": ".py",
   "mimetype": "text/x-python",
   "name": "python",
   "nbconvert_exporter": "python",
   "pygments_lexer": "ipython3",
   "version": "3.8.20"
  }
 },
 "nbformat": 4,
 "nbformat_minor": 2
}
