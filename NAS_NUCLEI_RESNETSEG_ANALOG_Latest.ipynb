{
 "cells": [
  {
   "cell_type": "code",
   "execution_count": 1,
   "metadata": {},
   "outputs": [],
   "source": [
    "best_config = {\n",
    " 'out_channel0': 16,\n",
    " 'M': 4,\n",
    " 'R1': 2,\n",
    " 'R2': 0,\n",
    " 'R3': 1,\n",
    " 'R4': 2,\n",
    " 'R5': 0,\n",
    " 'convblock1': 1,\n",
    " 'widenfact1': 0.5330917238012098,\n",
    " 'B1': 2,\n",
    " 'convblock2': 2,\n",
    " 'widenfact2': 0.5289583249829364,\n",
    " 'B2': 1,\n",
    " 'convblock3': 2,\n",
    " 'widenfact3': 0.6765230043009361,\n",
    " 'B3': 3,\n",
    " 'convblock4': 2,\n",
    " 'widenfact4': 0.7745942817441474,\n",
    " 'B4': 1,\n",
    " 'convblock5': 0,\n",
    " 'widenfact5': 0,\n",
    " 'B5': 0\n",
    " }"
   ]
  },
  {
   "cell_type": "code",
   "execution_count": 2,
   "metadata": {},
   "outputs": [],
   "source": [
    "from analogainas.search_spaces.resnet_macro_architecture import Network\n",
    "from analogainas.utils import *\n",
    "\n",
    "import torch\n",
    "from torchsummary import summary\n",
    "# Building the Optimal Sub-network\n",
    "\n",
    "model = Network(best_config)\n",
    "# model = model.cuda()\n",
    "# summary(model, input_size=(3, 32, 32))"
   ]
  },
  {
   "cell_type": "code",
   "execution_count": 3,
   "metadata": {},
   "outputs": [
    {
     "name": "stdout",
     "output_type": "stream",
     "text": [
      "862838\n"
     ]
    }
   ],
   "source": [
    "total_params = sum(p.numel() for p in model.parameters() if p.requires_grad)\n",
    "print(total_params)"
   ]
  },
  {
   "cell_type": "code",
   "execution_count": 4,
   "metadata": {},
   "outputs": [],
   "source": [
    "from aihwkit.nn import AnalogConv2d, AnalogLinear, AnalogSequential\n",
    "from aihwkit.nn.conversion import convert_to_analog_mapped, convert_to_analog\n",
    "from aihwkit.optim import AnalogSGD\n",
    "from torch.optim import SGD\n",
    "from aihwkit.simulator.configs import FloatingPointRPUConfig, SingleRPUConfig, UnitCellRPUConfig, InferenceRPUConfig, DigitalRankUpdateRPUConfig\n",
    "from aihwkit.simulator.configs.devices import *\n",
    "from aihwkit.simulator.configs.utils import PulseType\n",
    "# from aihwkit.simulator.rpu_base import cuda\n",
    "from aihwkit.inference import BaseNoiseModel, PCMLikeNoiseModel, StateIndependentNoiseModel\n",
    "from aihwkit.simulator.configs.utils import WeightClipType,WeightModifierType, IOParameters\n",
    "from aihwkit.inference.compensation.drift import GlobalDriftCompensation\n",
    "\n",
    "from aihwkit.simulator.configs.utils import BoundManagementType\n",
    "from aihwkit.simulator.presets.utils import PresetIOParameters\n",
    "import math"
   ]
  },
  {
   "cell_type": "code",
   "execution_count": 5,
   "metadata": {},
   "outputs": [],
   "source": [
    "def create_rpu_config_new():\n",
    "    rpu_config = InferenceRPUConfig()\n",
    "\n",
    "    rpu_config.clip.type = WeightClipType.FIXED_VALUE\n",
    "    rpu_config.clip.fixed_value = 1.0\n",
    "    rpu_config.modifier.pdrop = 0  # Drop connect.\n",
    "\n",
    "    rpu_config.modifier.std_dev = 0.5\n",
    "\n",
    "    rpu_config.modifier.rel_to_actual_wmax = True\n",
    "    rpu_config.mapping.digital_bias = True\n",
    "    rpu_config.mapping.weight_scaling_omega = 0.4\n",
    "    rpu_config.mapping.weight_scaling_omega = True\n",
    "    rpu_config.mapping.max_input_size = 256\n",
    "    rpu_config.mapping.max_output_size = 256\n",
    "\n",
    "    rpu_config.mapping.learn_out_scaling_alpha = True\n",
    "\n",
    "    rpu_config.forward = PresetIOParameters()\n",
    "    rpu_config.forward.inp_res = 1/256  # 8-bit DAC discretization.\n",
    "    rpu_config.forward.out_res = 1/256  # 8-bit ADC discretization.\n",
    "    rpu_config.forward.bound_management = BoundManagementType.NONE\n",
    "\n",
    "    # Inference noise model.\n",
    "    rpu_config.noise_model = PCMLikeNoiseModel(g_max=25)\n",
    "\n",
    "    # drift compensation\n",
    "    rpu_config.drift_compensation = GlobalDriftCompensation()\n",
    "    return rpu_config\n",
    "\n",
    "def create_analog_optimizer(model, lr):\n",
    "    \"\"\"Create the analog-aware optimizer.\n",
    "\n",
    "    Args:\n",
    "        model (nn.Module): model to be trained\n",
    "\n",
    "    Returns:\n",
    "        Optimizer: created analog optimizer\n",
    "    \"\"\"\n",
    "\n",
    "    optimizer = AnalogSGD(model.parameters(), lr) # we will use a learning rate of 0.01 as in the paper\n",
    "    optimizer.regroup_param_groups(model)\n",
    "\n",
    "    return optimizer"
   ]
  },
  {
   "cell_type": "code",
   "execution_count": 6,
   "metadata": {},
   "outputs": [],
   "source": [
    "# model_analog"
   ]
  },
  {
   "cell_type": "code",
   "execution_count": null,
   "metadata": {},
   "outputs": [],
   "source": []
  },
  {
   "cell_type": "code",
   "execution_count": 7,
   "metadata": {},
   "outputs": [],
   "source": [
    "import torch\n",
    "import torch.nn as nn\n",
    "import torch.optim as optim\n",
    "import torch.backends.cudnn as cudnn\n",
    "from torch.optim.lr_scheduler import CosineAnnealingLR\n",
    "import torch.nn.functional as F\n",
    "import pandas as pd\n",
    "from analogainas.search_spaces.dataloaders.dataloader import load_nuclei_dataset\n",
    "from tqdm import tqdm\n",
    "from collections import OrderedDict"
   ]
  },
  {
   "cell_type": "code",
   "execution_count": 8,
   "metadata": {},
   "outputs": [],
   "source": [
    "def train(train_loader, model, criterion, optimizer):\n",
    "    avg_meters = {\"loss\": AverageMeter(), \"iou\": AverageMeter()}\n",
    "\n",
    "    model.train()\n",
    "\n",
    "    pbar = tqdm(total=len(train_loader))\n",
    "    for input, target, _ in train_loader:\n",
    "        input = input.to(device)\n",
    "        target = target.to(device)\n",
    "\n",
    "        output = model(input)\n",
    "\n",
    "        loss = criterion(output, target)\n",
    "        iou = iou_score(output, target)\n",
    "\n",
    "        # compute gradient and do optimizing step\n",
    "        optimizer.zero_grad()\n",
    "        loss.backward()\n",
    "        optimizer.step()\n",
    "\n",
    "        avg_meters[\"loss\"].update(loss.item(), input.size(0))\n",
    "        avg_meters[\"iou\"].update(iou, input.size(0))\n",
    "\n",
    "        postfix = OrderedDict(\n",
    "            [\n",
    "                (\"loss\", avg_meters[\"loss\"].avg),\n",
    "                (\"iou\", avg_meters[\"iou\"].avg),\n",
    "            ]\n",
    "        )\n",
    "        pbar.set_postfix(postfix)\n",
    "        pbar.update(1)\n",
    "    pbar.close()\n",
    "\n",
    "    return OrderedDict(\n",
    "        [(\"loss\", avg_meters[\"loss\"].avg), (\"iou\", avg_meters[\"iou\"].avg)]\n",
    "    )\n",
    "\n",
    "\n",
    "def test(val_loader, model, criterion):\n",
    "    global best_acc\n",
    "    avg_meters = {\"loss\": AverageMeter(), \"iou\": AverageMeter()}\n",
    "\n",
    "    # switch to evaluate mode\n",
    "    model.eval()\n",
    "\n",
    "    with torch.no_grad():\n",
    "        pbar = tqdm(total=len(val_loader))\n",
    "        for input, target, _ in val_loader:\n",
    "            input = input.to(device)\n",
    "            target = target.to(device)\n",
    "\n",
    "            output = model(input)\n",
    "            loss = criterion(output, target)\n",
    "            iou = iou_score(output, target)\n",
    "\n",
    "            avg_meters[\"loss\"].update(loss.item(), input.size(0))\n",
    "            avg_meters[\"iou\"].update(iou, input.size(0))\n",
    "\n",
    "            postfix = OrderedDict(\n",
    "                [\n",
    "                    (\"loss\", avg_meters[\"loss\"].avg),\n",
    "                    (\"iou\", avg_meters[\"iou\"].avg),\n",
    "                ]\n",
    "            )\n",
    "            pbar.set_postfix(postfix)\n",
    "            pbar.update(1)\n",
    "        pbar.close()\n",
    "\n",
    "    return OrderedDict(\n",
    "        [(\"loss\", avg_meters[\"loss\"].avg), (\"iou\", avg_meters[\"iou\"].avg)]\n",
    "    )\n"
   ]
  },
  {
   "cell_type": "code",
   "execution_count": 9,
   "metadata": {},
   "outputs": [],
   "source": [
    "def iou_score(output, target):\n",
    "    smooth = 1e-5\n",
    "\n",
    "    if torch.is_tensor(output):\n",
    "        output = torch.sigmoid(output).data.cpu().numpy()\n",
    "    if torch.is_tensor(target):\n",
    "        target = target.data.cpu().numpy()\n",
    "    output_ = output > 0.5\n",
    "    target_ = target > 0.5\n",
    "    intersection = (output_ & target_).sum()\n",
    "    union = (output_ | target_).sum()\n",
    "\n",
    "    return (intersection + smooth) / (union + smooth)\n",
    "\n",
    "class BCEDiceLoss(nn.Module):\n",
    "    def __init__(self):\n",
    "        super().__init__()\n",
    "\n",
    "    def forward(self, input, target):\n",
    "        bce = F.binary_cross_entropy_with_logits(input, target)\n",
    "        smooth = 1e-5\n",
    "        input = torch.sigmoid(input)\n",
    "        num = target.size(0)\n",
    "        input = input.view(num, -1)\n",
    "        target = target.view(num, -1)\n",
    "        intersection = input * target\n",
    "        dice = (2.0 * intersection.sum(1) + smooth) / (\n",
    "            input.sum(1) + target.sum(1) + smooth\n",
    "        )\n",
    "        dice = 1 - dice.sum() / num\n",
    "        return 0.5 * bce + dice\n",
    "\n",
    "class AverageMeter(object):\n",
    "    \"\"\"Computes and stores the average and current value\"\"\"\n",
    "\n",
    "    def __init__(self):\n",
    "        self.reset()\n",
    "\n",
    "    def reset(self):\n",
    "        self.val = 0\n",
    "        self.avg = 0\n",
    "        self.sum = 0\n",
    "        self.count = 0\n",
    "\n",
    "    def update(self, val, n=1):\n",
    "        self.val = val\n",
    "        self.sum += val * n\n",
    "        self.count += n\n",
    "        self.avg = self.sum / self.count"
   ]
  },
  {
   "cell_type": "code",
   "execution_count": 10,
   "metadata": {},
   "outputs": [
    {
     "data": {
      "text/plain": [
       "False"
      ]
     },
     "execution_count": 10,
     "metadata": {},
     "output_type": "execute_result"
    }
   ],
   "source": [
    "import aihwkit\n",
    "aihwkit.simulator.rpu_base.cuda.is_compiled()"
   ]
  },
  {
   "cell_type": "code",
   "execution_count": 11,
   "metadata": {},
   "outputs": [
    {
     "data": {
      "text/plain": [
       "========================================================================================================================================================================================================\n",
       "Model Name: AnalogWrapperNetwork\n",
       "========================================================================================================================================================================================================\n",
       "Per-layer Information\n",
       "========================================================================================================================================================================================================\n",
       "Layer Information                                                     | Tile Information              \n",
       "========================================================================================================================================================================================================\n",
       "Layer Name          Is Analog           In Shape            Out Shape           Kernel Shape        # of Tiles          Reuse Factor        Log. tile shape     Phys. tile shape    utilization (%)     \n",
       "AnalogConv2dMapped  analog              [1, 3, 32, 32]      [1, 16, 28, 28]     (7, 7)              1                   784                 -                   -                   -                   \n",
       "                                                                                                                                            (16, 147)           (256, 256)          3.59                \n",
       "BatchNorm2d         digital             [1, 16, 28, 28]     [1, 16, 28, 28]     -                   0                   0                   -                   -                   -                   \n",
       "BatchNorm2d         digital             [1, 16, 28, 28]     [1, 16, 28, 28]     -                   0                   0                   -                   -                   -                   \n",
       "ReLU                digital             [1, 16, 28, 28]     [1, 16, 28, 28]     -                   0                   0                   -                   -                   -                   \n",
       "ReLU                digital             [1, 16, 28, 28]     [1, 16, 28, 28]     -                   0                   0                   -                   -                   -                   \n",
       "AnalogConv2dMapped  analog              [1, 16, 28, 28]     [1, 30, 28, 28]     (3, 3)              1                   784                 -                   -                   -                   \n",
       "                                                                                                                                            (30, 144)           (256, 256)          6.59                \n",
       "AnalogConv2dMapped  analog              [1, 16, 28, 28]     [1, 30, 28, 28]     (3, 3)              1                   784                 -                   -                   -                   \n",
       "                                                                                                                                            (30, 144)           (256, 256)          6.59                \n",
       "BatchNorm2d         digital             [1, 30, 28, 28]     [1, 30, 28, 28]     -                   0                   0                   -                   -                   -                   \n",
       "BatchNorm2d         digital             [1, 30, 28, 28]     [1, 30, 28, 28]     -                   0                   0                   -                   -                   -                   \n",
       "ReLU                digital             [1, 30, 28, 28]     [1, 30, 28, 28]     -                   0                   0                   -                   -                   -                   \n",
       "ReLU                digital             [1, 30, 28, 28]     [1, 30, 28, 28]     -                   0                   0                   -                   -                   -                   \n",
       "AnalogConv2dMapped  analog              [1, 30, 28, 28]     [1, 30, 28, 28]     (3, 3)              2                   784                 -                   -                   -                   \n",
       "                                                                                                                                            (30, 135)           (256, 256)          6.18                \n",
       "                                                                                                                                            (30, 135)           (256, 256)          6.18                \n",
       "AnalogConv2dMapped  analog              [1, 30, 28, 28]     [1, 30, 28, 28]     (3, 3)              2                   784                 -                   -                   -                   \n",
       "                                                                                                                                            (30, 135)           (256, 256)          6.18                \n",
       "                                                                                                                                            (30, 135)           (256, 256)          6.18                \n",
       "BatchNorm2d         digital             [1, 30, 28, 28]     [1, 30, 28, 28]     -                   0                   0                   -                   -                   -                   \n",
       "BatchNorm2d         digital             [1, 30, 28, 28]     [1, 30, 28, 28]     -                   0                   0                   -                   -                   -                   \n",
       "ReLU                digital             [1, 16, 28, 28]     [1, 16, 28, 28]     -                   0                   0                   -                   -                   -                   \n",
       "ReLU                digital             [1, 16, 28, 28]     [1, 16, 28, 28]     -                   0                   0                   -                   -                   -                   \n",
       "AnalogConv2dMapped  analog              [1, 16, 28, 28]     [1, 30, 28, 28]     (3, 3)              1                   784                 -                   -                   -                   \n",
       "                                                                                                                                            (30, 144)           (256, 256)          6.59                \n",
       "AnalogConv2dMapped  analog              [1, 16, 28, 28]     [1, 30, 28, 28]     (3, 3)              1                   784                 -                   -                   -                   \n",
       "                                                                                                                                            (30, 144)           (256, 256)          6.59                \n",
       "BatchNorm2d         digital             [1, 30, 28, 28]     [1, 30, 28, 28]     -                   0                   0                   -                   -                   -                   \n",
       "BatchNorm2d         digital             [1, 30, 28, 28]     [1, 30, 28, 28]     -                   0                   0                   -                   -                   -                   \n",
       "ReLU                digital             [1, 30, 28, 28]     [1, 30, 28, 28]     -                   0                   0                   -                   -                   -                   \n",
       "ReLU                digital             [1, 30, 28, 28]     [1, 30, 28, 28]     -                   0                   0                   -                   -                   -                   \n",
       "AnalogConv2dMapped  analog              [1, 30, 28, 28]     [1, 30, 28, 28]     (3, 3)              2                   784                 -                   -                   -                   \n",
       "                                                                                                                                            (30, 135)           (256, 256)          6.18                \n",
       "                                                                                                                                            (30, 135)           (256, 256)          6.18                \n",
       "AnalogConv2dMapped  analog              [1, 30, 28, 28]     [1, 30, 28, 28]     (3, 3)              2                   784                 -                   -                   -                   \n",
       "                                                                                                                                            (30, 135)           (256, 256)          6.18                \n",
       "                                                                                                                                            (30, 135)           (256, 256)          6.18                \n",
       "BatchNorm2d         digital             [1, 30, 28, 28]     [1, 30, 28, 28]     -                   0                   0                   -                   -                   -                   \n",
       "BatchNorm2d         digital             [1, 30, 28, 28]     [1, 30, 28, 28]     -                   0                   0                   -                   -                   -                   \n",
       "AvgPool2d           digital             [1, 16, 28, 28]     [1, 16, 28, 28]     1                   0                   0                   -                   -                   -                   \n",
       "AvgPool2d           digital             [1, 16, 28, 28]     [1, 16, 28, 28]     1                   0                   0                   -                   -                   -                   \n",
       "AnalogConv2dMapped  analog              [1, 16, 28, 28]     [1, 15, 28, 28]     (1, 1)              1                   784                 -                   -                   -                   \n",
       "                                                                                                                                            (15, 16)            (256, 256)          0.37                \n",
       "AnalogConv2dMapped  analog              [1, 16, 28, 28]     [1, 15, 28, 28]     (1, 1)              1                   784                 -                   -                   -                   \n",
       "                                                                                                                                            (15, 16)            (256, 256)          0.37                \n",
       "AvgPool2d           digital             [1, 16, 28, 28]     [1, 16, 28, 28]     1                   0                   0                   -                   -                   -                   \n",
       "AvgPool2d           digital             [1, 16, 28, 28]     [1, 16, 28, 28]     1                   0                   0                   -                   -                   -                   \n",
       "AnalogConv2dMapped  analog              [1, 16, 28, 28]     [1, 15, 28, 28]     (1, 1)              1                   784                 -                   -                   -                   \n",
       "                                                                                                                                            (15, 16)            (256, 256)          0.37                \n",
       "AnalogConv2dMapped  analog              [1, 16, 28, 28]     [1, 15, 28, 28]     (1, 1)              1                   784                 -                   -                   -                   \n",
       "                                                                                                                                            (15, 16)            (256, 256)          0.37                \n",
       "BatchNorm2d         digital             [1, 30, 28, 28]     [1, 30, 28, 28]     -                   0                   0                   -                   -                   -                   \n",
       "BatchNorm2d         digital             [1, 30, 28, 28]     [1, 30, 28, 28]     -                   0                   0                   -                   -                   -                   \n",
       "ReLU                digital             [1, 30, 28, 28]     [1, 30, 28, 28]     -                   0                   0                   -                   -                   -                   \n",
       "ReLU                digital             [1, 30, 28, 28]     [1, 30, 28, 28]     -                   0                   0                   -                   -                   -                   \n",
       "AnalogConv2dMapped  analog              [1, 30, 28, 28]     [1, 30, 28, 28]     (3, 3)              2                   784                 -                   -                   -                   \n",
       "                                                                                                                                            (30, 135)           (256, 256)          6.18                \n",
       "                                                                                                                                            (30, 135)           (256, 256)          6.18                \n",
       "AnalogConv2dMapped  analog              [1, 30, 28, 28]     [1, 30, 28, 28]     (3, 3)              2                   784                 -                   -                   -                   \n",
       "                                                                                                                                            (30, 135)           (256, 256)          6.18                \n",
       "                                                                                                                                            (30, 135)           (256, 256)          6.18                \n",
       "BatchNorm2d         digital             [1, 30, 28, 28]     [1, 30, 28, 28]     -                   0                   0                   -                   -                   -                   \n",
       "BatchNorm2d         digital             [1, 30, 28, 28]     [1, 30, 28, 28]     -                   0                   0                   -                   -                   -                   \n",
       "ReLU                digital             [1, 30, 28, 28]     [1, 30, 28, 28]     -                   0                   0                   -                   -                   -                   \n",
       "ReLU                digital             [1, 30, 28, 28]     [1, 30, 28, 28]     -                   0                   0                   -                   -                   -                   \n",
       "AnalogConv2dMapped  analog              [1, 30, 28, 28]     [1, 30, 28, 28]     (3, 3)              2                   784                 -                   -                   -                   \n",
       "                                                                                                                                            (30, 135)           (256, 256)          6.18                \n",
       "                                                                                                                                            (30, 135)           (256, 256)          6.18                \n",
       "AnalogConv2dMapped  analog              [1, 30, 28, 28]     [1, 30, 28, 28]     (3, 3)              2                   784                 -                   -                   -                   \n",
       "                                                                                                                                            (30, 135)           (256, 256)          6.18                \n",
       "                                                                                                                                            (30, 135)           (256, 256)          6.18                \n",
       "BatchNorm2d         digital             [1, 30, 28, 28]     [1, 30, 28, 28]     -                   0                   0                   -                   -                   -                   \n",
       "BatchNorm2d         digital             [1, 30, 28, 28]     [1, 30, 28, 28]     -                   0                   0                   -                   -                   -                   \n",
       "ReLU                digital             [1, 30, 28, 28]     [1, 30, 28, 28]     -                   0                   0                   -                   -                   -                   \n",
       "ReLU                digital             [1, 30, 28, 28]     [1, 30, 28, 28]     -                   0                   0                   -                   -                   -                   \n",
       "AnalogConv2dMapped  analog              [1, 30, 28, 28]     [1, 30, 28, 28]     (3, 3)              2                   784                 -                   -                   -                   \n",
       "                                                                                                                                            (30, 135)           (256, 256)          6.18                \n",
       "                                                                                                                                            (30, 135)           (256, 256)          6.18                \n",
       "AnalogConv2dMapped  analog              [1, 30, 28, 28]     [1, 30, 28, 28]     (3, 3)              2                   784                 -                   -                   -                   \n",
       "                                                                                                                                            (30, 135)           (256, 256)          6.18                \n",
       "                                                                                                                                            (30, 135)           (256, 256)          6.18                \n",
       "BatchNorm2d         digital             [1, 30, 28, 28]     [1, 30, 28, 28]     -                   0                   0                   -                   -                   -                   \n",
       "BatchNorm2d         digital             [1, 30, 28, 28]     [1, 30, 28, 28]     -                   0                   0                   -                   -                   -                   \n",
       "ReLU                digital             [1, 30, 28, 28]     [1, 30, 28, 28]     -                   0                   0                   -                   -                   -                   \n",
       "ReLU                digital             [1, 30, 28, 28]     [1, 30, 28, 28]     -                   0                   0                   -                   -                   -                   \n",
       "AnalogConv2dMapped  analog              [1, 30, 28, 28]     [1, 30, 28, 28]     (3, 3)              2                   784                 -                   -                   -                   \n",
       "                                                                                                                                            (30, 135)           (256, 256)          6.18                \n",
       "                                                                                                                                            (30, 135)           (256, 256)          6.18                \n",
       "AnalogConv2dMapped  analog              [1, 30, 28, 28]     [1, 30, 28, 28]     (3, 3)              2                   784                 -                   -                   -                   \n",
       "                                                                                                                                            (30, 135)           (256, 256)          6.18                \n",
       "                                                                                                                                            (30, 135)           (256, 256)          6.18                \n",
       "BatchNorm2d         digital             [1, 30, 28, 28]     [1, 30, 28, 28]     -                   0                   0                   -                   -                   -                   \n",
       "BatchNorm2d         digital             [1, 30, 28, 28]     [1, 30, 28, 28]     -                   0                   0                   -                   -                   -                   \n",
       "AnalogSequential    analog              [1, 30, 28, 28]     [1, 30, 28, 28]     -                   0                   0                   -                   -                   -                   \n",
       "AnalogSequential    analog              [1, 30, 28, 28]     [1, 30, 28, 28]     -                   0                   0                   -                   -                   -                   \n",
       "ReLU                digital             [1, 30, 28, 28]     [1, 30, 28, 28]     -                   0                   0                   -                   -                   -                   \n",
       "ReLU                digital             [1, 30, 28, 28]     [1, 30, 28, 28]     -                   0                   0                   -                   -                   -                   \n",
       "AnalogConv2dMapped  analog              [1, 30, 28, 28]     [1, 56, 28, 28]     (3, 3)              2                   784                 -                   -                   -                   \n",
       "                                                                                                                                            (56, 135)           (256, 256)          11.54               \n",
       "                                                                                                                                            (56, 135)           (256, 256)          11.54               \n",
       "AnalogConv2dMapped  analog              [1, 30, 28, 28]     [1, 56, 28, 28]     (3, 3)              2                   784                 -                   -                   -                   \n",
       "                                                                                                                                            (56, 135)           (256, 256)          11.54               \n",
       "                                                                                                                                            (56, 135)           (256, 256)          11.54               \n",
       "BatchNorm2d         digital             [1, 56, 28, 28]     [1, 56, 28, 28]     -                   0                   0                   -                   -                   -                   \n",
       "BatchNorm2d         digital             [1, 56, 28, 28]     [1, 56, 28, 28]     -                   0                   0                   -                   -                   -                   \n",
       "ReLU                digital             [1, 56, 28, 28]     [1, 56, 28, 28]     -                   0                   0                   -                   -                   -                   \n",
       "ReLU                digital             [1, 56, 28, 28]     [1, 56, 28, 28]     -                   0                   0                   -                   -                   -                   \n",
       "AnalogConv2dMapped  analog              [1, 56, 28, 28]     [1, 56, 28, 28]     (3, 3)              2                   784                 -                   -                   -                   \n",
       "                                                                                                                                            (56, 252)           (256, 256)          21.53               \n",
       "                                                                                                                                            (56, 252)           (256, 256)          21.53               \n",
       "AnalogConv2dMapped  analog              [1, 56, 28, 28]     [1, 56, 28, 28]     (3, 3)              2                   784                 -                   -                   -                   \n",
       "                                                                                                                                            (56, 252)           (256, 256)          21.53               \n",
       "                                                                                                                                            (56, 252)           (256, 256)          21.53               \n",
       "BatchNorm2d         digital             [1, 56, 28, 28]     [1, 56, 28, 28]     -                   0                   0                   -                   -                   -                   \n",
       "BatchNorm2d         digital             [1, 56, 28, 28]     [1, 56, 28, 28]     -                   0                   0                   -                   -                   -                   \n",
       "AvgPool2d           digital             [1, 30, 28, 28]     [1, 30, 28, 28]     1                   0                   0                   -                   -                   -                   \n",
       "AvgPool2d           digital             [1, 30, 28, 28]     [1, 30, 28, 28]     1                   0                   0                   -                   -                   -                   \n",
       "AnalogConv2dMapped  analog              [1, 30, 28, 28]     [1, 28, 28, 28]     (1, 1)              1                   784                 -                   -                   -                   \n",
       "                                                                                                                                            (28, 30)            (256, 256)          1.28                \n",
       "AnalogConv2dMapped  analog              [1, 30, 28, 28]     [1, 28, 28, 28]     (1, 1)              1                   784                 -                   -                   -                   \n",
       "                                                                                                                                            (28, 30)            (256, 256)          1.28                \n",
       "AvgPool2d           digital             [1, 30, 28, 28]     [1, 30, 28, 28]     1                   0                   0                   -                   -                   -                   \n",
       "AvgPool2d           digital             [1, 30, 28, 28]     [1, 30, 28, 28]     1                   0                   0                   -                   -                   -                   \n",
       "AnalogConv2dMapped  analog              [1, 30, 28, 28]     [1, 28, 28, 28]     (1, 1)              1                   784                 -                   -                   -                   \n",
       "                                                                                                                                            (28, 30)            (256, 256)          1.28                \n",
       "AnalogConv2dMapped  analog              [1, 30, 28, 28]     [1, 28, 28, 28]     (1, 1)              1                   784                 -                   -                   -                   \n",
       "                                                                                                                                            (28, 30)            (256, 256)          1.28                \n",
       "BatchNorm2d         digital             [1, 56, 28, 28]     [1, 56, 28, 28]     -                   0                   0                   -                   -                   -                   \n",
       "BatchNorm2d         digital             [1, 56, 28, 28]     [1, 56, 28, 28]     -                   0                   0                   -                   -                   -                   \n",
       "ReLU                digital             [1, 56, 28, 28]     [1, 56, 28, 28]     -                   0                   0                   -                   -                   -                   \n",
       "ReLU                digital             [1, 56, 28, 28]     [1, 56, 28, 28]     -                   0                   0                   -                   -                   -                   \n",
       "AnalogConv2dMapped  analog              [1, 56, 28, 28]     [1, 82, 28, 28]     (3, 3)              2                   784                 -                   -                   -                   \n",
       "                                                                                                                                            (82, 252)           (256, 256)          31.53               \n",
       "                                                                                                                                            (82, 252)           (256, 256)          31.53               \n",
       "AnalogConv2dMapped  analog              [1, 56, 28, 28]     [1, 82, 28, 28]     (3, 3)              2                   784                 -                   -                   -                   \n",
       "                                                                                                                                            (82, 252)           (256, 256)          31.53               \n",
       "                                                                                                                                            (82, 252)           (256, 256)          31.53               \n",
       "BatchNorm2d         digital             [1, 82, 28, 28]     [1, 82, 28, 28]     -                   0                   0                   -                   -                   -                   \n",
       "BatchNorm2d         digital             [1, 82, 28, 28]     [1, 82, 28, 28]     -                   0                   0                   -                   -                   -                   \n",
       "ReLU                digital             [1, 82, 28, 28]     [1, 82, 28, 28]     -                   0                   0                   -                   -                   -                   \n",
       "ReLU                digital             [1, 82, 28, 28]     [1, 82, 28, 28]     -                   0                   0                   -                   -                   -                   \n",
       "AnalogConv2dMapped  analog              [1, 82, 28, 28]     [1, 82, 28, 28]     (3, 3)              3                   784                 -                   -                   -                   \n",
       "                                                                                                                                            (82, 252)           (256, 256)          31.53               \n",
       "                                                                                                                                            (82, 243)           (256, 256)          30.40               \n",
       "                                                                                                                                            (82, 243)           (256, 256)          30.40               \n",
       "AnalogConv2dMapped  analog              [1, 82, 28, 28]     [1, 82, 28, 28]     (3, 3)              3                   784                 -                   -                   -                   \n",
       "                                                                                                                                            (82, 252)           (256, 256)          31.53               \n",
       "                                                                                                                                            (82, 243)           (256, 256)          30.40               \n",
       "                                                                                                                                            (82, 243)           (256, 256)          30.40               \n",
       "BatchNorm2d         digital             [1, 82, 28, 28]     [1, 82, 28, 28]     -                   0                   0                   -                   -                   -                   \n",
       "BatchNorm2d         digital             [1, 82, 28, 28]     [1, 82, 28, 28]     -                   0                   0                   -                   -                   -                   \n",
       "ReLU                digital             [1, 56, 28, 28]     [1, 56, 28, 28]     -                   0                   0                   -                   -                   -                   \n",
       "ReLU                digital             [1, 56, 28, 28]     [1, 56, 28, 28]     -                   0                   0                   -                   -                   -                   \n",
       "AnalogConv2dMapped  analog              [1, 56, 28, 28]     [1, 82, 28, 28]     (3, 3)              2                   784                 -                   -                   -                   \n",
       "                                                                                                                                            (82, 252)           (256, 256)          31.53               \n",
       "                                                                                                                                            (82, 252)           (256, 256)          31.53               \n",
       "AnalogConv2dMapped  analog              [1, 56, 28, 28]     [1, 82, 28, 28]     (3, 3)              2                   784                 -                   -                   -                   \n",
       "                                                                                                                                            (82, 252)           (256, 256)          31.53               \n",
       "                                                                                                                                            (82, 252)           (256, 256)          31.53               \n",
       "BatchNorm2d         digital             [1, 82, 28, 28]     [1, 82, 28, 28]     -                   0                   0                   -                   -                   -                   \n",
       "BatchNorm2d         digital             [1, 82, 28, 28]     [1, 82, 28, 28]     -                   0                   0                   -                   -                   -                   \n",
       "ReLU                digital             [1, 82, 28, 28]     [1, 82, 28, 28]     -                   0                   0                   -                   -                   -                   \n",
       "ReLU                digital             [1, 82, 28, 28]     [1, 82, 28, 28]     -                   0                   0                   -                   -                   -                   \n",
       "AnalogConv2dMapped  analog              [1, 82, 28, 28]     [1, 82, 28, 28]     (3, 3)              3                   784                 -                   -                   -                   \n",
       "                                                                                                                                            (82, 252)           (256, 256)          31.53               \n",
       "                                                                                                                                            (82, 243)           (256, 256)          30.40               \n",
       "                                                                                                                                            (82, 243)           (256, 256)          30.40               \n",
       "AnalogConv2dMapped  analog              [1, 82, 28, 28]     [1, 82, 28, 28]     (3, 3)              3                   784                 -                   -                   -                   \n",
       "                                                                                                                                            (82, 252)           (256, 256)          31.53               \n",
       "                                                                                                                                            (82, 243)           (256, 256)          30.40               \n",
       "                                                                                                                                            (82, 243)           (256, 256)          30.40               \n",
       "BatchNorm2d         digital             [1, 82, 28, 28]     [1, 82, 28, 28]     -                   0                   0                   -                   -                   -                   \n",
       "BatchNorm2d         digital             [1, 82, 28, 28]     [1, 82, 28, 28]     -                   0                   0                   -                   -                   -                   \n",
       "ReLU                digital             [1, 56, 28, 28]     [1, 56, 28, 28]     -                   0                   0                   -                   -                   -                   \n",
       "ReLU                digital             [1, 56, 28, 28]     [1, 56, 28, 28]     -                   0                   0                   -                   -                   -                   \n",
       "AnalogConv2dMapped  analog              [1, 56, 28, 28]     [1, 82, 28, 28]     (3, 3)              2                   784                 -                   -                   -                   \n",
       "                                                                                                                                            (82, 252)           (256, 256)          31.53               \n",
       "                                                                                                                                            (82, 252)           (256, 256)          31.53               \n",
       "AnalogConv2dMapped  analog              [1, 56, 28, 28]     [1, 82, 28, 28]     (3, 3)              2                   784                 -                   -                   -                   \n",
       "                                                                                                                                            (82, 252)           (256, 256)          31.53               \n",
       "                                                                                                                                            (82, 252)           (256, 256)          31.53               \n",
       "BatchNorm2d         digital             [1, 82, 28, 28]     [1, 82, 28, 28]     -                   0                   0                   -                   -                   -                   \n",
       "BatchNorm2d         digital             [1, 82, 28, 28]     [1, 82, 28, 28]     -                   0                   0                   -                   -                   -                   \n",
       "ReLU                digital             [1, 82, 28, 28]     [1, 82, 28, 28]     -                   0                   0                   -                   -                   -                   \n",
       "ReLU                digital             [1, 82, 28, 28]     [1, 82, 28, 28]     -                   0                   0                   -                   -                   -                   \n",
       "AnalogConv2dMapped  analog              [1, 82, 28, 28]     [1, 82, 28, 28]     (3, 3)              3                   784                 -                   -                   -                   \n",
       "                                                                                                                                            (82, 252)           (256, 256)          31.53               \n",
       "                                                                                                                                            (82, 243)           (256, 256)          30.40               \n",
       "                                                                                                                                            (82, 243)           (256, 256)          30.40               \n",
       "AnalogConv2dMapped  analog              [1, 82, 28, 28]     [1, 82, 28, 28]     (3, 3)              3                   784                 -                   -                   -                   \n",
       "                                                                                                                                            (82, 252)           (256, 256)          31.53               \n",
       "                                                                                                                                            (82, 243)           (256, 256)          30.40               \n",
       "                                                                                                                                            (82, 243)           (256, 256)          30.40               \n",
       "BatchNorm2d         digital             [1, 82, 28, 28]     [1, 82, 28, 28]     -                   0                   0                   -                   -                   -                   \n",
       "BatchNorm2d         digital             [1, 82, 28, 28]     [1, 82, 28, 28]     -                   0                   0                   -                   -                   -                   \n",
       "AvgPool2d           digital             [1, 56, 28, 28]     [1, 56, 28, 28]     1                   0                   0                   -                   -                   -                   \n",
       "AvgPool2d           digital             [1, 56, 28, 28]     [1, 56, 28, 28]     1                   0                   0                   -                   -                   -                   \n",
       "AnalogConv2dMapped  analog              [1, 56, 28, 28]     [1, 41, 28, 28]     (1, 1)              1                   784                 -                   -                   -                   \n",
       "                                                                                                                                            (41, 56)            (256, 256)          3.50                \n",
       "AnalogConv2dMapped  analog              [1, 56, 28, 28]     [1, 41, 28, 28]     (1, 1)              1                   784                 -                   -                   -                   \n",
       "                                                                                                                                            (41, 56)            (256, 256)          3.50                \n",
       "AvgPool2d           digital             [1, 56, 28, 28]     [1, 56, 28, 28]     1                   0                   0                   -                   -                   -                   \n",
       "AvgPool2d           digital             [1, 56, 28, 28]     [1, 56, 28, 28]     1                   0                   0                   -                   -                   -                   \n",
       "AnalogConv2dMapped  analog              [1, 56, 28, 28]     [1, 41, 28, 28]     (1, 1)              1                   784                 -                   -                   -                   \n",
       "                                                                                                                                            (41, 56)            (256, 256)          3.50                \n",
       "AnalogConv2dMapped  analog              [1, 56, 28, 28]     [1, 41, 28, 28]     (1, 1)              1                   784                 -                   -                   -                   \n",
       "                                                                                                                                            (41, 56)            (256, 256)          3.50                \n",
       "BatchNorm2d         digital             [1, 82, 28, 28]     [1, 82, 28, 28]     -                   0                   0                   -                   -                   -                   \n",
       "BatchNorm2d         digital             [1, 82, 28, 28]     [1, 82, 28, 28]     -                   0                   0                   -                   -                   -                   \n",
       "ReLU                digital             [1, 82, 28, 28]     [1, 82, 28, 28]     -                   0                   0                   -                   -                   -                   \n",
       "ReLU                digital             [1, 82, 28, 28]     [1, 82, 28, 28]     -                   0                   0                   -                   -                   -                   \n",
       "AnalogConv2dMapped  analog              [1, 82, 28, 28]     [1, 105, 28, 28]    (3, 3)              3                   784                 -                   -                   -                   \n",
       "                                                                                                                                            (105, 252)          (256, 256)          40.37               \n",
       "                                                                                                                                            (105, 243)          (256, 256)          38.93               \n",
       "                                                                                                                                            (105, 243)          (256, 256)          38.93               \n",
       "AnalogConv2dMapped  analog              [1, 82, 28, 28]     [1, 105, 28, 28]    (3, 3)              3                   784                 -                   -                   -                   \n",
       "                                                                                                                                            (105, 252)          (256, 256)          40.37               \n",
       "                                                                                                                                            (105, 243)          (256, 256)          38.93               \n",
       "                                                                                                                                            (105, 243)          (256, 256)          38.93               \n",
       "BatchNorm2d         digital             [1, 105, 28, 28]    [1, 105, 28, 28]    -                   0                   0                   -                   -                   -                   \n",
       "BatchNorm2d         digital             [1, 105, 28, 28]    [1, 105, 28, 28]    -                   0                   0                   -                   -                   -                   \n",
       "ReLU                digital             [1, 105, 28, 28]    [1, 105, 28, 28]    -                   0                   0                   -                   -                   -                   \n",
       "ReLU                digital             [1, 105, 28, 28]    [1, 105, 28, 28]    -                   0                   0                   -                   -                   -                   \n",
       "AnalogConv2dMapped  analog              [1, 105, 28, 28]    [1, 105, 28, 28]    (3, 3)              4                   784                 -                   -                   -                   \n",
       "                                                                                                                                            (105, 243)          (256, 256)          38.93               \n",
       "                                                                                                                                            (105, 234)          (256, 256)          37.49               \n",
       "                                                                                                                                            (105, 234)          (256, 256)          37.49               \n",
       "                                                                                                                                            (105, 234)          (256, 256)          37.49               \n",
       "AnalogConv2dMapped  analog              [1, 105, 28, 28]    [1, 105, 28, 28]    (3, 3)              4                   784                 -                   -                   -                   \n",
       "                                                                                                                                            (105, 243)          (256, 256)          38.93               \n",
       "                                                                                                                                            (105, 234)          (256, 256)          37.49               \n",
       "                                                                                                                                            (105, 234)          (256, 256)          37.49               \n",
       "                                                                                                                                            (105, 234)          (256, 256)          37.49               \n",
       "BatchNorm2d         digital             [1, 105, 28, 28]    [1, 105, 28, 28]    -                   0                   0                   -                   -                   -                   \n",
       "BatchNorm2d         digital             [1, 105, 28, 28]    [1, 105, 28, 28]    -                   0                   0                   -                   -                   -                   \n",
       "AvgPool2d           digital             [1, 82, 28, 28]     [1, 82, 28, 28]     1                   0                   0                   -                   -                   -                   \n",
       "AvgPool2d           digital             [1, 82, 28, 28]     [1, 82, 28, 28]     1                   0                   0                   -                   -                   -                   \n",
       "AnalogConv2dMapped  analog              [1, 82, 28, 28]     [1, 52, 28, 28]     (1, 1)              1                   784                 -                   -                   -                   \n",
       "                                                                                                                                            (52, 82)            (256, 256)          6.51                \n",
       "AnalogConv2dMapped  analog              [1, 82, 28, 28]     [1, 52, 28, 28]     (1, 1)              1                   784                 -                   -                   -                   \n",
       "                                                                                                                                            (52, 82)            (256, 256)          6.51                \n",
       "AvgPool2d           digital             [1, 82, 28, 28]     [1, 82, 28, 28]     1                   0                   0                   -                   -                   -                   \n",
       "AvgPool2d           digital             [1, 82, 28, 28]     [1, 82, 28, 28]     1                   0                   0                   -                   -                   -                   \n",
       "AnalogConv2dMapped  analog              [1, 82, 28, 28]     [1, 53, 28, 28]     (1, 1)              1                   784                 -                   -                   -                   \n",
       "                                                                                                                                            (53, 82)            (256, 256)          6.63                \n",
       "AnalogConv2dMapped  analog              [1, 82, 28, 28]     [1, 53, 28, 28]     (1, 1)              1                   784                 -                   -                   -                   \n",
       "                                                                                                                                            (53, 82)            (256, 256)          6.63                \n",
       "BatchNorm2d         digital             [1, 105, 28, 28]    [1, 105, 28, 28]    -                   0                   0                   -                   -                   -                   \n",
       "BatchNorm2d         digital             [1, 105, 28, 28]    [1, 105, 28, 28]    -                   0                   0                   -                   -                   -                   \n",
       "ReLU                digital             [1, 105, 28, 28]    [1, 105, 28, 28]    -                   0                   0                   -                   -                   -                   \n",
       "ReLU                digital             [1, 105, 28, 28]    [1, 105, 28, 28]    -                   0                   0                   -                   -                   -                   \n",
       "AnalogConv2dMapped  analog              [1, 105, 28, 28]    [1, 105, 28, 28]    (3, 3)              4                   784                 -                   -                   -                   \n",
       "                                                                                                                                            (105, 243)          (256, 256)          38.93               \n",
       "                                                                                                                                            (105, 234)          (256, 256)          37.49               \n",
       "                                                                                                                                            (105, 234)          (256, 256)          37.49               \n",
       "                                                                                                                                            (105, 234)          (256, 256)          37.49               \n",
       "AnalogConv2dMapped  analog              [1, 105, 28, 28]    [1, 105, 28, 28]    (3, 3)              4                   784                 -                   -                   -                   \n",
       "                                                                                                                                            (105, 243)          (256, 256)          38.93               \n",
       "                                                                                                                                            (105, 234)          (256, 256)          37.49               \n",
       "                                                                                                                                            (105, 234)          (256, 256)          37.49               \n",
       "                                                                                                                                            (105, 234)          (256, 256)          37.49               \n",
       "BatchNorm2d         digital             [1, 105, 28, 28]    [1, 105, 28, 28]    -                   0                   0                   -                   -                   -                   \n",
       "BatchNorm2d         digital             [1, 105, 28, 28]    [1, 105, 28, 28]    -                   0                   0                   -                   -                   -                   \n",
       "ReLU                digital             [1, 105, 28, 28]    [1, 105, 28, 28]    -                   0                   0                   -                   -                   -                   \n",
       "ReLU                digital             [1, 105, 28, 28]    [1, 105, 28, 28]    -                   0                   0                   -                   -                   -                   \n",
       "AnalogConv2dMapped  analog              [1, 105, 28, 28]    [1, 105, 28, 28]    (3, 3)              4                   784                 -                   -                   -                   \n",
       "                                                                                                                                            (105, 243)          (256, 256)          38.93               \n",
       "                                                                                                                                            (105, 234)          (256, 256)          37.49               \n",
       "                                                                                                                                            (105, 234)          (256, 256)          37.49               \n",
       "                                                                                                                                            (105, 234)          (256, 256)          37.49               \n",
       "AnalogConv2dMapped  analog              [1, 105, 28, 28]    [1, 105, 28, 28]    (3, 3)              4                   784                 -                   -                   -                   \n",
       "                                                                                                                                            (105, 243)          (256, 256)          38.93               \n",
       "                                                                                                                                            (105, 234)          (256, 256)          37.49               \n",
       "                                                                                                                                            (105, 234)          (256, 256)          37.49               \n",
       "                                                                                                                                            (105, 234)          (256, 256)          37.49               \n",
       "BatchNorm2d         digital             [1, 105, 28, 28]    [1, 105, 28, 28]    -                   0                   0                   -                   -                   -                   \n",
       "BatchNorm2d         digital             [1, 105, 28, 28]    [1, 105, 28, 28]    -                   0                   0                   -                   -                   -                   \n",
       "AnalogSequential    analog              [1, 105, 28, 28]    [1, 105, 28, 28]    -                   0                   0                   -                   -                   -                   \n",
       "AnalogSequential    analog              [1, 105, 28, 28]    [1, 105, 28, 28]    -                   0                   0                   -                   -                   -                   \n",
       "Upsample            digital             [1, 105, 28, 28]    [1, 105, 32, 32]    -                   0                   0                   -                   -                   -                   \n",
       "AnalogConv2dMapped  analog              [1, 105, 32, 32]    [1, 64, 32, 32]     (3, 3)              4                   1024                -                   -                   -                   \n",
       "                                                                                                                                            (64, 243)           (256, 256)          23.73               \n",
       "                                                                                                                                            (64, 234)           (256, 256)          22.85               \n",
       "                                                                                                                                            (64, 234)           (256, 256)          22.85               \n",
       "                                                                                                                                            (64, 234)           (256, 256)          22.85               \n",
       "BatchNorm2d         digital             [1, 64, 32, 32]     [1, 64, 32, 32]     -                   0                   0                   -                   -                   -                   \n",
       "ReLU                digital             [1, 64, 32, 32]     [1, 64, 32, 32]     -                   0                   0                   -                   -                   -                   \n",
       "AnalogConv2dMapped  analog              [1, 64, 32, 32]     [1, 1, 32, 32]      (1, 1)              1                   1024                -                   -                   -                   \n",
       "                                                                                                                                            (1, 64)             (256, 256)          0.10                \n",
       "========================================================================================================================================================================================================\n",
       "General Information\n",
       "========================================================================================================================================================================================================\n",
       "Total number of tiles: 118\n",
       "Total number of analog layers: 63"
      ]
     },
     "execution_count": 11,
     "metadata": {},
     "output_type": "execute_result"
    }
   ],
   "source": [
    "# from aihwkit.simulator.tiles.transfer import TorchTransferTile\n",
    "rpu_config = create_rpu_config_new()\n",
    "# rpu_config.tile_class = TorchTransferTile\n",
    "model_analog = convert_to_analog_mapped(model, rpu_config)\n",
    "from aihwkit.utils.analog_info import analog_summary\n",
    "\n",
    "analog_summary(model_analog,(1, 3, 32, 32))"
   ]
  },
  {
   "cell_type": "code",
   "execution_count": 15,
   "metadata": {},
   "outputs": [
    {
     "name": "stdout",
     "output_type": "stream",
     "text": [
      "/scratch/vg2507/HPML/analog-nas-unet\n"
     ]
    },
    {
     "name": "stderr",
     "output_type": "stream",
     "text": [
      "100%|██████████| 8/8 [07:05<00:00, 53.24s/it, loss=0.93, iou=0.246] \n",
      "100%|██████████| 3/3 [00:57<00:00, 19.06s/it, loss=1.12, iou=2.04e-9]\n"
     ]
    },
    {
     "name": "stdout",
     "output_type": "stream",
     "text": [
      "loss 0.9295 - iou 0.2461 - val_loss 1.1158 - val_iou 0.0000\n",
      "=> saved best model\n"
     ]
    },
    {
     "name": "stderr",
     "output_type": "stream",
     "text": [
      "100%|██████████| 8/8 [07:08<00:00, 53.59s/it, loss=0.912, iou=0.252]\n",
      "100%|██████████| 3/3 [00:57<00:00, 19.23s/it, loss=1.08, iou=2.04e-9]\n"
     ]
    },
    {
     "name": "stdout",
     "output_type": "stream",
     "text": [
      "loss 0.9117 - iou 0.2523 - val_loss 1.0796 - val_iou 0.0000\n"
     ]
    },
    {
     "name": "stderr",
     "output_type": "stream",
     "text": [
      "100%|██████████| 8/8 [07:08<00:00, 53.57s/it, loss=0.891, iou=0.268]\n",
      "100%|██████████| 3/3 [00:57<00:00, 19.12s/it, loss=1.07, iou=0.00028] \n"
     ]
    },
    {
     "name": "stdout",
     "output_type": "stream",
     "text": [
      "loss 0.8913 - iou 0.2681 - val_loss 1.0652 - val_iou 0.0003\n",
      "=> saved best model\n"
     ]
    },
    {
     "name": "stderr",
     "output_type": "stream",
     "text": [
      "100%|██████████| 8/8 [07:08<00:00, 53.57s/it, loss=0.887, iou=0.269]\n",
      "100%|██████████| 3/3 [00:57<00:00, 19.23s/it, loss=1.05, iou=0.0119]\n"
     ]
    },
    {
     "name": "stdout",
     "output_type": "stream",
     "text": [
      "loss 0.8867 - iou 0.2695 - val_loss 1.0525 - val_iou 0.0119\n",
      "=> saved best model\n"
     ]
    },
    {
     "name": "stderr",
     "output_type": "stream",
     "text": [
      "100%|██████████| 8/8 [07:12<00:00, 54.00s/it, loss=0.879, iou=0.275]\n",
      "100%|██████████| 3/3 [00:57<00:00, 19.01s/it, loss=1.06, iou=0.0193]\n"
     ]
    },
    {
     "name": "stdout",
     "output_type": "stream",
     "text": [
      "loss 0.8789 - iou 0.2751 - val_loss 1.0608 - val_iou 0.0193\n",
      "=> saved best model\n"
     ]
    },
    {
     "name": "stderr",
     "output_type": "stream",
     "text": [
      "100%|██████████| 8/8 [07:12<00:00, 54.01s/it, loss=0.857, iou=0.291]\n",
      "100%|██████████| 3/3 [00:57<00:00, 19.15s/it, loss=1.07, iou=0.0246]\n"
     ]
    },
    {
     "name": "stdout",
     "output_type": "stream",
     "text": [
      "loss 0.8568 - iou 0.2906 - val_loss 1.0706 - val_iou 0.0246\n",
      "=> saved best model\n"
     ]
    },
    {
     "name": "stderr",
     "output_type": "stream",
     "text": [
      "100%|██████████| 8/8 [07:08<00:00, 53.53s/it, loss=0.86, iou=0.286] \n",
      "100%|██████████| 3/3 [00:56<00:00, 18.96s/it, loss=0.999, iou=0.149]\n"
     ]
    },
    {
     "name": "stdout",
     "output_type": "stream",
     "text": [
      "loss 0.8598 - iou 0.2859 - val_loss 0.9993 - val_iou 0.1487\n",
      "=> saved best model\n"
     ]
    },
    {
     "name": "stderr",
     "output_type": "stream",
     "text": [
      "100%|██████████| 8/8 [07:11<00:00, 53.88s/it, loss=0.839, iou=0.306]\n",
      "100%|██████████| 3/3 [00:57<00:00, 19.09s/it, loss=1.29, iou=0.113] \n"
     ]
    },
    {
     "name": "stdout",
     "output_type": "stream",
     "text": [
      "loss 0.8390 - iou 0.3056 - val_loss 1.2881 - val_iou 0.1135\n"
     ]
    },
    {
     "name": "stderr",
     "output_type": "stream",
     "text": [
      "100%|██████████| 8/8 [07:12<00:00, 54.08s/it, loss=0.838, iou=0.305]\n",
      "100%|██████████| 3/3 [00:56<00:00, 18.91s/it, loss=0.916, iou=0.25] \n"
     ]
    },
    {
     "name": "stdout",
     "output_type": "stream",
     "text": [
      "loss 0.8376 - iou 0.3045 - val_loss 0.9163 - val_iou 0.2502\n",
      "=> saved best model\n"
     ]
    },
    {
     "name": "stderr",
     "output_type": "stream",
     "text": [
      "100%|██████████| 8/8 [07:09<00:00, 53.68s/it, loss=0.839, iou=0.306]\n",
      "100%|██████████| 3/3 [00:57<00:00, 19.13s/it, loss=0.905, iou=0.255]\n"
     ]
    },
    {
     "name": "stdout",
     "output_type": "stream",
     "text": [
      "loss 0.8392 - iou 0.3061 - val_loss 0.9048 - val_iou 0.2552\n",
      "=> saved best model\n"
     ]
    },
    {
     "name": "stderr",
     "output_type": "stream",
     "text": [
      "100%|██████████| 8/8 [07:09<00:00, 53.65s/it, loss=0.815, iou=0.321]\n",
      "100%|██████████| 3/3 [00:57<00:00, 19.06s/it, loss=0.905, iou=0.271]\n"
     ]
    },
    {
     "name": "stdout",
     "output_type": "stream",
     "text": [
      "loss 0.8155 - iou 0.3206 - val_loss 0.9053 - val_iou 0.2709\n",
      "=> saved best model\n"
     ]
    },
    {
     "name": "stderr",
     "output_type": "stream",
     "text": [
      "100%|██████████| 8/8 [07:10<00:00, 53.85s/it, loss=0.821, iou=0.316]\n",
      "100%|██████████| 3/3 [00:57<00:00, 19.10s/it, loss=1.02, iou=0.136]\n"
     ]
    },
    {
     "name": "stdout",
     "output_type": "stream",
     "text": [
      "loss 0.8213 - iou 0.3162 - val_loss 1.0151 - val_iou 0.1359\n"
     ]
    },
    {
     "name": "stderr",
     "output_type": "stream",
     "text": [
      "100%|██████████| 8/8 [07:12<00:00, 54.01s/it, loss=0.855, iou=0.282]\n",
      "100%|██████████| 3/3 [00:57<00:00, 19.21s/it, loss=0.997, iou=0.206]\n"
     ]
    },
    {
     "name": "stdout",
     "output_type": "stream",
     "text": [
      "loss 0.8553 - iou 0.2822 - val_loss 0.9970 - val_iou 0.2065\n"
     ]
    },
    {
     "name": "stderr",
     "output_type": "stream",
     "text": [
      "100%|██████████| 8/8 [07:13<00:00, 54.16s/it, loss=0.82, iou=0.315] \n",
      "100%|██████████| 3/3 [00:57<00:00, 19.04s/it, loss=0.837, iou=0.319]\n"
     ]
    },
    {
     "name": "stdout",
     "output_type": "stream",
     "text": [
      "loss 0.8198 - iou 0.3146 - val_loss 0.8374 - val_iou 0.3186\n",
      "=> saved best model\n"
     ]
    },
    {
     "name": "stderr",
     "output_type": "stream",
     "text": [
      "100%|██████████| 8/8 [07:10<00:00, 53.77s/it, loss=0.802, iou=0.334]\n",
      "100%|██████████| 3/3 [00:56<00:00, 18.87s/it, loss=0.897, iou=0.286]\n"
     ]
    },
    {
     "name": "stdout",
     "output_type": "stream",
     "text": [
      "loss 0.8016 - iou 0.3340 - val_loss 0.8970 - val_iou 0.2862\n"
     ]
    },
    {
     "name": "stderr",
     "output_type": "stream",
     "text": [
      "100%|██████████| 8/8 [07:11<00:00, 53.99s/it, loss=0.784, iou=0.346]\n",
      "100%|██████████| 3/3 [00:56<00:00, 18.92s/it, loss=0.935, iou=0.252]\n"
     ]
    },
    {
     "name": "stdout",
     "output_type": "stream",
     "text": [
      "loss 0.7844 - iou 0.3462 - val_loss 0.9354 - val_iou 0.2517\n"
     ]
    },
    {
     "name": "stderr",
     "output_type": "stream",
     "text": [
      "100%|██████████| 8/8 [07:10<00:00, 53.80s/it, loss=0.786, iou=0.344]\n",
      "100%|██████████| 3/3 [00:57<00:00, 19.01s/it, loss=1.16, iou=0.168]\n"
     ]
    },
    {
     "name": "stdout",
     "output_type": "stream",
     "text": [
      "loss 0.7857 - iou 0.3444 - val_loss 1.1601 - val_iou 0.1679\n"
     ]
    },
    {
     "name": "stderr",
     "output_type": "stream",
     "text": [
      "100%|██████████| 8/8 [07:12<00:00, 54.12s/it, loss=0.812, iou=0.316]\n",
      "100%|██████████| 3/3 [00:56<00:00, 18.99s/it, loss=0.89, iou=0.259] \n"
     ]
    },
    {
     "name": "stdout",
     "output_type": "stream",
     "text": [
      "loss 0.8121 - iou 0.3158 - val_loss 0.8897 - val_iou 0.2591\n"
     ]
    },
    {
     "name": "stderr",
     "output_type": "stream",
     "text": [
      "100%|██████████| 8/8 [07:12<00:00, 54.02s/it, loss=0.773, iou=0.352]\n",
      "100%|██████████| 3/3 [00:57<00:00, 19.07s/it, loss=0.796, iou=0.348]\n"
     ]
    },
    {
     "name": "stdout",
     "output_type": "stream",
     "text": [
      "loss 0.7730 - iou 0.3517 - val_loss 0.7956 - val_iou 0.3477\n",
      "=> saved best model\n"
     ]
    },
    {
     "name": "stderr",
     "output_type": "stream",
     "text": [
      "100%|██████████| 8/8 [07:10<00:00, 53.81s/it, loss=0.766, iou=0.357]\n",
      "100%|██████████| 3/3 [00:57<00:00, 19.01s/it, loss=0.824, iou=0.349]"
     ]
    },
    {
     "name": "stdout",
     "output_type": "stream",
     "text": [
      "loss 0.7663 - iou 0.3575 - val_loss 0.8244 - val_iou 0.3489\n",
      "=> saved best model\n"
     ]
    },
    {
     "name": "stderr",
     "output_type": "stream",
     "text": [
      "\n"
     ]
    }
   ],
   "source": [
    "# name = name + \"_analog\"\n",
    "# rpu_config = create_rpu_config_new()\n",
    "# model_analog = convert_to_analog_mapped(model, rpu_config)\n",
    "# add this sequential to enable drift analog weights\n",
    "\n",
    "\n",
    "# device = \"cuda\" if torch.cuda.is_available() else \"cpu\"\n",
    "best_iou = 0\n",
    "device = \"cpu\"\n",
    "model_analog = AnalogSequential(model_analog)\n",
    "trainloader, testloader = load_nuclei_dataset()\n",
    "lr = 0.1\n",
    "epochs = 20\n",
    "model_analog.train()\n",
    "model_analog.to(device)\n",
    "params = filter(lambda p: p.requires_grad, model_analog.parameters())\n",
    "optimizer = torch.optim.Adam(params, 1e-4)\n",
    "optimizer = create_analog_optimizer(model_analog, lr = lr)\n",
    "\n",
    "scheduler = CosineAnnealingLR(optimizer, T_max=400)\n",
    "criterion = BCEDiceLoss()\n",
    "\n",
    "log = OrderedDict([\n",
    "    ('epoch', []),\n",
    "    ('lr', []),\n",
    "    ('loss', []),\n",
    "    ('iou', []),\n",
    "    ('val_loss', []),\n",
    "    ('val_iou', []),\n",
    "])\n",
    "\n",
    "for epoch in range(0, epochs):\n",
    "    train_log = train(trainloader, model_analog, criterion, optimizer)\n",
    "    val_log = test(testloader, model_analog, criterion)\n",
    "    model_analog.remap_analog_weights()\n",
    "    scheduler.step()\n",
    "    print('loss %.4f - iou %.4f - val_loss %.4f - val_iou %.4f'\n",
    "          % (train_log['loss'], train_log['iou'], val_log['loss'], val_log['iou']))\n",
    "    log['epoch'].append(epoch)\n",
    "    log['loss'].append(train_log['loss'])\n",
    "    log['iou'].append(train_log['iou'])\n",
    "    log['val_loss'].append(val_log['loss'])\n",
    "    log['val_iou'].append(val_log['iou'])\n",
    "    if val_log['iou'] > best_iou:\n",
    "        torch.save(model_analog.state_dict(), 'modelanalog.pth')\n",
    "        best_iou = val_log['iou']\n",
    "        print(\"=> saved best model\")\n",
    "        trigger = 0"
   ]
  },
  {
   "cell_type": "code",
   "execution_count": null,
   "metadata": {},
   "outputs": [],
   "source": [
    "from collections import OrderedDict\n",
    "from tqdm import tqdm\n",
    "\n",
    "def test_inference(config, model, criterion, test_loader):\n",
    "    #model.eval()  # ensure the model is in evaluation mode\n",
    "\n",
    "    # Initializing metric trackers\n",
    "    avg_meters = {'loss': AverageMeter(),\n",
    "                  'iou': AverageMeter(),\n",
    "                  'accuracy': AverageMeter(),\n",
    "                  'error': AverageMeter()}\n",
    "\n",
    "    with torch.no_grad():\n",
    "        pbar = tqdm(total=len(test_loader))\n",
    "\n",
    "        # Simulation of inference at different times after training.\n",
    "        for t_inference in [1, 3600,3600*24, 3600*24*30]:  # Example: Simulate the drift for 1 day.\n",
    "            print(t_inference)\n",
    "            model.drift_analog_weights(t_inference)  # Apply the drift simulation if applicable.\n",
    "\n",
    "            for data_batch in test_loader:\n",
    "                # Adjust the unpacking to account for the third item in the batch.\n",
    "                images, labels, _ = data_batch  # The third item is ignored as in training.\n",
    "\n",
    "                images = images.cuda()\n",
    "                labels = labels.cuda()\n",
    "\n",
    "                # Compute model output\n",
    "                if config['deep_supervision']:\n",
    "                    outputs = model(images)\n",
    "                    loss = 0\n",
    "                    for output in outputs:\n",
    "                        loss += criterion(output, labels)\n",
    "                    loss /= len(outputs)\n",
    "                    iou = iou_score(outputs[-1], labels)\n",
    "                else:\n",
    "                    output = model(images)\n",
    "                    loss = criterion(output, labels)\n",
    "                    iou = iou_score(output, labels)\n",
    "\n",
    "                # Calculate accuracy and error\n",
    "                _, predicted = torch.max(output.data, 1)\n",
    "                total = labels.size(0)\n",
    "                correct = (predicted == labels).sum().item()\n",
    "                accuracy = correct / total\n",
    "                error = 1 - accuracy\n",
    "\n",
    "                # Update tracking variables\n",
    "                avg_meters['loss'].update(loss.item(), total)\n",
    "                avg_meters['iou'].update(iou, total)\n",
    "\n",
    "                pbar.update(1)\n",
    "\n",
    "            # Displaying statistics after inference\n",
    "            print(f'Inference Time: {t_inference: .2e} seconds')\n",
    "            print(f'Average Loss: {avg_meters[\"loss\"].avg:.4f}\\tAverage IoU: {avg_meters[\"iou\"].avg:.4f}')\n",
    "\n",
    "            pbar.close()\n",
    "\n",
    "            # Resetting the average meters for the next inference time point\n",
    "            for meter in avg_meters.values():\n",
    "                meter.reset()\n",
    "\n",
    "    return OrderedDict([('loss', avg_meters['loss'].avg),\n",
    "                        ('iou', avg_meters['iou'].avg)])\n",
    "\n",
    "test_inference(best_config, model_analog,criterion, val_loader )"
   ]
  }
 ],
 "metadata": {
  "kernelspec": {
   "display_name": "envpls",
   "language": "python",
   "name": "envpls"
  },
  "language_info": {
   "codemirror_mode": {
    "name": "ipython",
    "version": 3
   },
   "file_extension": ".py",
   "mimetype": "text/x-python",
   "name": "python",
   "nbconvert_exporter": "python",
   "pygments_lexer": "ipython3",
   "version": "3.9.19"
  }
 },
 "nbformat": 4,
 "nbformat_minor": 4
}
